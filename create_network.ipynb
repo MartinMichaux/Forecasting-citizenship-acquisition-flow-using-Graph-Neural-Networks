{
 "cells": [
  {
   "cell_type": "code",
   "execution_count": 9,
   "metadata": {},
   "outputs": [],
   "source": [
    "import pandas as pd\n",
    "import numpy as np\n",
    "import networkx as nx\n",
    "from sklearn.metrics.pairwise import cosine_similarity\n",
    "from scipy.spatial.distance import cdist\n",
    "from sklearn.preprocessing import MinMaxScaler\n"
   ]
  },
  {
   "cell_type": "code",
   "execution_count": 10,
   "metadata": {},
   "outputs": [],
   "source": [
    "df_features = pd.read_csv('features/features_interpolated.csv', encoding='latin-1', engine='python')\n",
    "df_features.drop(columns=['Unnamed: 0'], inplace=True)\n",
    "immigration = pd.read_csv('data/OECD_acquisition_data_interpolated.csv', encoding='latin-1', engine='python')\n",
    "immigration.drop(columns=['Unnamed: 0'], inplace=True)"
   ]
  },
  {
   "cell_type": "code",
   "execution_count": 11,
   "metadata": {},
   "outputs": [
    {
     "name": "stdout",
     "output_type": "stream",
     "text": [
      "  Country  Year  Carbon Emissions  Education Expenditure   \n",
      "0     AUS  2000          339446.6               4.887310  \\\n",
      "1     AUS  2001          345645.0               4.889552   \n",
      "2     AUS  2002          353371.3               4.891794   \n",
      "3     AUS  2003          352581.1               4.894036   \n",
      "4     AUS  2004          365808.0               4.896278   \n",
      "\n",
      "   Foreign Direct Investment (FDI) Inflows           GDP  Health Expenditure   \n",
      "0                             1.489298e+10  4.158513e+11            7.599617  \\\n",
      "1                             1.071713e+10  3.793582e+11            7.682723   \n",
      "2                             1.465632e+10  3.955808e+11            7.878076   \n",
      "3                             8.985246e+09  4.674980e+11            7.882926   \n",
      "4                             4.290767e+10  6.143264e+11            8.090034   \n",
      "\n",
      "   Inflation Rate  Internet Penetration  Life Expectancy   \n",
      "0        4.457435             46.756116        79.234146  \\\n",
      "1        4.407135             52.689266        79.634146   \n",
      "2        2.981575             55.266950        79.936585   \n",
      "3        2.732596             57.844633        80.239024   \n",
      "4        2.343255             60.422317        80.490244   \n",
      "\n",
      "   Renewable Energy Production  Unemployment Rate  \n",
      "0                         8.42               6.28  \n",
      "1                         8.37               6.74  \n",
      "2                         8.74               6.37  \n",
      "3                         7.15               5.93  \n",
      "4                         6.68               5.39  \n",
      "   CO2  COU  Year  Value\n",
      "0  GBR  BEL  2000  152.0\n",
      "1  GBR  BEL  2001  274.0\n",
      "2  GBR  BEL  2002  201.0\n",
      "3  GBR  BEL  2003  126.0\n",
      "4  GBR  BEL  2004  128.0\n"
     ]
    }
   ],
   "source": [
    "print(df_features.head())\n",
    "print(immigration.head())"
   ]
  },
  {
   "attachments": {},
   "cell_type": "markdown",
   "metadata": {},
   "source": [
    "For each year, create a graph based on the similarities of the countries"
   ]
  },
  {
   "cell_type": "code",
   "execution_count": 12,
   "metadata": {},
   "outputs": [
    {
     "name": "stdout",
     "output_type": "stream",
     "text": [
      "Index(['Carbon Emissions', 'Education Expenditure',\n",
      "       'Foreign Direct Investment (FDI) Inflows', 'GDP', 'Health Expenditure',\n",
      "       'Inflation Rate', 'Internet Penetration', 'Life Expectancy',\n",
      "       'Renewable Energy Production', 'Unemployment Rate'],\n",
      "      dtype='object')\n",
      "[2000 2001 2002 2003 2004 2005 2006 2007 2008 2009 2010 2011 2012 2013\n",
      " 2014 2015 2016 2017 2018 2019 2020 2021]\n",
      "['AUS' 'AUT' 'BEL' 'CAN' 'CHE' 'CHL' 'DEU' 'DNK' 'ESP' 'FIN' 'FRA' 'GBR'\n",
      " 'GRC' 'HUN' 'IRL' 'ISL' 'ITA' 'LUX' 'LVA' 'MEX' 'NLD' 'NOR' 'NZL' 'POL'\n",
      " 'SVN' 'SWE' 'USA']\n"
     ]
    }
   ],
   "source": [
    "# get all features names except country and year\n",
    "features = df_features.columns[2:]\n",
    "years = df_features['Year'].unique()\n",
    "countries = df_features['Country'].unique()\n",
    "\n",
    "print(features)\n",
    "print(years)\n",
    "print(countries)"
   ]
  },
  {
   "cell_type": "code",
   "execution_count": 13,
   "metadata": {},
   "outputs": [],
   "source": [
    "# create a threshold for each feature similarity score to be considered\n",
    "threshold_ce = 0.5\n",
    "threshold_ee = 0.5\n",
    "threshold_fdi = 0.5\n",
    "threshold_gpd = 0.5\n",
    "threshold_he = 0.5\n",
    "threshold_ir = 0.5\n",
    "threshold_ip = 0.5\n",
    "threshold_le = 0.5\n",
    "threshold_rep = 0.5\n",
    "threshold_ur = 0.5\n",
    "\n",
    "# Set the minimum number of threshold crossings required\n",
    "min_threshold_crossings = 5\n",
    "\n",
    "similarity_thresholds = [threshold_ce, threshold_ee, threshold_fdi, threshold_gpd, threshold_he,\n",
    "                         threshold_ir, threshold_ip, threshold_le, threshold_rep, threshold_ur]"
   ]
  },
  {
   "cell_type": "code",
   "execution_count": 14,
   "metadata": {},
   "outputs": [],
   "source": [
    "def compute_similarities(df):\n",
    "    # similarity_ce = cosine_similarity(df['Carbon Emissions'].values.reshape(-1, 1), df['Carbon Emissions'].values.reshape(-1, 1))\n",
    "    # similarity_ee = cosine_similarity(df['Education Expenditure'].values.reshape(-1, 1), df['Education Expenditure'].values.reshape(-1, 1))\n",
    "    # similarity_fdi = cosine_similarity(df['Foreign Direct Investment (FDI) Inflows'].values.reshape(-1, 1), df['Foreign Direct Investment (FDI) Inflows'].values.reshape(-1, 1))\n",
    "    # similarity_gpd = cosine_similarity(df['GDP'].values.reshape(-1, 1), df['GDP'].values.reshape(-1, 1))\n",
    "    # similarity_he = cosine_similarity(df['Health Expenditure'].values.reshape(-1, 1), df['Health Expenditure'].values.reshape(-1, 1))\n",
    "    # similarity_ir = cosine_similarity(df['Inflation Rate'].values.reshape(-1, 1), df['Inflation Rate'].values.reshape(-1, 1))\n",
    "    # similarity_ip = cosine_similarity(df['Internet Penetration'].values.reshape(-1, 1), df['Internet Penetration'].values.reshape(-1, 1))\n",
    "    # similarity_le = cosine_similarity(df['Life Expectancy'].values.reshape(-1, 1), df['Life Expectancy'].values.reshape(-1, 1))\n",
    "    # similarity_rep = cosine_similarity(df['Renewable Energy Production'].values.reshape(-1, 1), df['Renewable Energy Production'].values.reshape(-1, 1))\n",
    "    # similarity_ur = cosine_similarity(df['Unemployment Rate'].values.reshape(-1, 1), df['Unemployment Rate'].values.reshape(-1, 1))\n",
    "    \n",
    "    similarity_ce = cdist(df['Carbon Emissions'].values.reshape(-1, 1), df['Carbon Emissions'].values.reshape(-1, 1), metric='canberra')\n",
    "    similarity_ee = cdist(df['Education Expenditure'].values.reshape(-1, 1), df['Education Expenditure'].values.reshape(-1, 1), metric='canberra')\n",
    "    similarity_fdi = cdist(df['Foreign Direct Investment (FDI) Inflows'].values.reshape(-1, 1), df['Foreign Direct Investment (FDI) Inflows'].values.reshape(-1, 1), metric='canberra')\n",
    "    similarity_gpd = cdist(df['GDP'].values.reshape(-1, 1), df['GDP'].values.reshape(-1, 1), metric='canberra')\n",
    "    similarity_he = cdist(df['Health Expenditure'].values.reshape(-1, 1), df['Health Expenditure'].values.reshape(-1, 1), metric='canberra')\n",
    "    similarity_ir = cdist(df['Inflation Rate'].values.reshape(-1, 1), df['Inflation Rate'].values.reshape(-1, 1), metric='canberra')\n",
    "    similarity_ip = cdist(df['Internet Penetration'].values.reshape(-1, 1), df['Internet Penetration'].values.reshape(-1, 1), metric='canberra')\n",
    "    similarity_le = cdist(df['Life Expectancy'].values.reshape(-1, 1), df['Life Expectancy'].values.reshape(-1, 1), metric='canberra')\n",
    "    similarity_rep = cdist(df['Renewable Energy Production'].values.reshape(-1, 1), df['Renewable Energy Production'].values.reshape(-1, 1), metric='canberra')\n",
    "    similarity_ur = cdist(df['Unemployment Rate'].values.reshape(-1, 1), df['Unemployment Rate'].values.reshape(-1, 1), metric='canberra')\n",
    "    \n",
    "    return similarity_ce, similarity_ee, similarity_fdi, similarity_gpd, similarity_he, \\\n",
    "            similarity_ir, similarity_ip, similarity_le, similarity_rep, similarity_ur\n"
   ]
  },
  {
   "cell_type": "code",
   "execution_count": 15,
   "metadata": {},
   "outputs": [
    {
     "name": "stdout",
     "output_type": "stream",
     "text": [
      "2000\n"
     ]
    },
    {
     "name": "stdout",
     "output_type": "stream",
     "text": [
      "Graph Sparsity: 0.5612535612535613\n",
      "2001\n",
      "Graph Sparsity: 0.5071225071225072\n",
      "2002\n",
      "Graph Sparsity: 0.5356125356125356\n",
      "2003\n",
      "Graph Sparsity: 0.4843304843304843\n",
      "2004\n",
      "Graph Sparsity: 0.4444444444444444\n",
      "2005\n",
      "Graph Sparsity: 0.31339031339031337\n",
      "2006\n",
      "Graph Sparsity: 0.4444444444444444\n",
      "2007\n",
      "Graph Sparsity: 0.3418803418803419\n",
      "2008\n",
      "Graph Sparsity: 0.452991452991453\n",
      "2009\n",
      "Graph Sparsity: 0.31339031339031337\n",
      "2010\n",
      "Graph Sparsity: 0.3333333333333333\n",
      "2011\n",
      "Graph Sparsity: 0.31339031339031337\n",
      "2012\n",
      "Graph Sparsity: 0.3190883190883191\n",
      "2013\n",
      "Graph Sparsity: 0.31054131054131057\n",
      "2014\n",
      "Graph Sparsity: 0.3076923076923077\n",
      "2015\n",
      "Graph Sparsity: 0.396011396011396\n",
      "2016\n",
      "Graph Sparsity: 0.33618233618233617\n",
      "2017\n",
      "Graph Sparsity: 0.3418803418803419\n",
      "2018\n",
      "Graph Sparsity: 0.2792022792022792\n",
      "2019\n",
      "Graph Sparsity: 0.41025641025641024\n",
      "2020\n",
      "Graph Sparsity: 0.19373219373219372\n",
      "2021\n"
     ]
    },
    {
     "ename": "IndexError",
     "evalue": "index 0 is out of bounds for axis 0 with size 0",
     "output_type": "error",
     "traceback": [
      "\u001b[1;31m---------------------------------------------------------------------------\u001b[0m",
      "\u001b[1;31mIndexError\u001b[0m                                Traceback (most recent call last)",
      "Cell \u001b[1;32mIn[15], line 53\u001b[0m\n\u001b[0;32m     50\u001b[0m             threshold_crossings \u001b[39m=\u001b[39m \u001b[39msum\u001b[39m(score \u001b[39m>\u001b[39m threshold \u001b[39mfor\u001b[39;00m score, threshold \u001b[39min\u001b[39;00m \u001b[39mzip\u001b[39m(similarity_scores, similarity_thresholds))\n\u001b[0;32m     52\u001b[0m             \u001b[39mif\u001b[39;00m threshold_crossings \u001b[39m>\u001b[39m\u001b[39m=\u001b[39m min_threshold_crossings:\n\u001b[1;32m---> 53\u001b[0m                 edge_value \u001b[39m=\u001b[39m immigration[(immigration[\u001b[39m'\u001b[39;49m\u001b[39mCO2\u001b[39;49m\u001b[39m'\u001b[39;49m] \u001b[39m==\u001b[39;49m country1) \u001b[39m&\u001b[39;49m (immigration[\u001b[39m'\u001b[39;49m\u001b[39mCOU\u001b[39;49m\u001b[39m'\u001b[39;49m] \u001b[39m==\u001b[39;49m country2) \u001b[39m&\u001b[39;49m (immigration[\u001b[39m'\u001b[39;49m\u001b[39mYear\u001b[39;49m\u001b[39m'\u001b[39;49m] \u001b[39m==\u001b[39;49m year)][\u001b[39m'\u001b[39;49m\u001b[39mValue\u001b[39;49m\u001b[39m'\u001b[39;49m]\u001b[39m.\u001b[39;49mvalues[\u001b[39m0\u001b[39;49m]\n\u001b[0;32m     54\u001b[0m                 graph\u001b[39m.\u001b[39madd_edge(country1, country2, weight\u001b[39m=\u001b[39m\u001b[39msum\u001b[39m(similarity_scores), edge_value\u001b[39m=\u001b[39medge_value)  \u001b[39m# Add edge with maximum similarity score as weight and edge value\u001b[39;00m\n\u001b[0;32m     56\u001b[0m \u001b[39m# Calculate the number of edges and nodes in the graph\u001b[39;00m\n",
      "\u001b[1;31mIndexError\u001b[0m: index 0 is out of bounds for axis 0 with size 0"
     ]
    }
   ],
   "source": [
    "graphs=[]\n",
    "\n",
    "# for each year create the graph\n",
    "for year in years:\n",
    "    print(year)\n",
    "    # empty graph\n",
    "    graph = nx.Graph()\n",
    "    \n",
    "    df = df_features[df_features['Year'] == year]\n",
    "    \n",
    "    # Create a MinMaxScaler object\n",
    "    scaler = MinMaxScaler()\n",
    "\n",
    "    # Normalize the features before computing similarity\n",
    "    normalized_features = scaler.fit_transform(df[['Carbon Emissions', 'Education Expenditure', 'Foreign Direct Investment (FDI) Inflows',\n",
    "                                                'GDP', 'Health Expenditure', 'Inflation Rate', 'Internet Penetration',\n",
    "                                                'Life Expectancy', 'Renewable Energy Production', 'Unemployment Rate']])\n",
    "\n",
    "    # Create a new DataFrame with the normalized features\n",
    "    df_normalized = pd.DataFrame(normalized_features, columns=['Carbon Emissions', 'Education Expenditure', 'Foreign Direct Investment (FDI) Inflows',\n",
    "                                                            'GDP', 'Health Expenditure', 'Inflation Rate', 'Internet Penetration',\n",
    "                                                            'Life Expectancy', 'Renewable Energy Production', 'Unemployment Rate'])\n",
    "\n",
    "    # Compute similarity using the normalized features\n",
    "    similarity_ce, similarity_ee, similarity_fdi, similarity_gpd, similarity_he, \\\n",
    "            similarity_ir, similarity_ip, similarity_le, similarity_rep, similarity_ur = compute_similarities(df_normalized)\n",
    "            \n",
    "    # Add countries as nodes to the graph and add all their features as node attributes\n",
    "    for i, row in df.iterrows():\n",
    "        graph.add_node(row['Country'], ce=row['Carbon Emissions'],\n",
    "                    ee=row['Education Expenditure'], fdi=row['Foreign Direct Investment (FDI) Inflows'],\n",
    "                    gpd=row['GDP'], he=row['Health Expenditure'],\n",
    "                    ir=row['Inflation Rate'], ip=row['Internet Penetration'],\n",
    "                    le=row['Life Expectancy'], rep=row['Renewable Energy Production'],\n",
    "                    ur=row['Unemployment Rate'])\n",
    "\n",
    "        \n",
    "    # Add edges based on similarity scores and threshold crossings\n",
    "    num_countries = len(countries)\n",
    "    for i in range(num_countries):\n",
    "        for j in range(i + 1, num_countries):\n",
    "            country1 = countries[i]\n",
    "            country2 = countries[j]\n",
    "            # Check if the nodes already exist in the graph\n",
    "            if country1 in graph.nodes() and country2 in graph.nodes():\n",
    "                similarity_scores = [similarity_ce[i][j], similarity_ee[i][j], similarity_fdi[i][j], similarity_gpd[i][j], similarity_he[i][j],\n",
    "                                     similarity_ir[i][j], similarity_ip[i][j], similarity_le[i][j], similarity_rep[i][j], similarity_ur[i][j]]\n",
    "\n",
    "                # Count the number of threshold crossings\n",
    "                threshold_crossings = sum(score > threshold for score, threshold in zip(similarity_scores, similarity_thresholds))\n",
    "\n",
    "                if threshold_crossings >= min_threshold_crossings:\n",
    "                    edge_value = immigration[(immigration['CO2'] == country1) & (immigration['COU'] == country2) & (immigration['Year'] == year)]['Value'].values[0]\n",
    "                    graph.add_edge(country1, country2, weight=sum(similarity_scores), edge_value=edge_value)  # Add edge with maximum similarity score as weight and edge value\n",
    "    \n",
    "    # Calculate the number of edges and nodes in the graph\n",
    "    num_nodes = graph.number_of_nodes()\n",
    "    num_edges = graph.number_of_edges()\n",
    "\n",
    "    # Calculate the maximum number of edges possible in an undirected graph\n",
    "    max_edges = (num_nodes * (num_nodes - 1)) / 2\n",
    "\n",
    "    # Calculate the sparsity of the graph\n",
    "    sparsity = num_edges / max_edges\n",
    "\n",
    "    # Print the sparsity\n",
    "    print(\"Graph Sparsity:\", sparsity)\n",
    "    \n",
    "    graphs.append(graph)"
   ]
  },
  {
   "attachments": {},
   "cell_type": "markdown",
   "metadata": {},
   "source": []
  }
 ],
 "metadata": {
  "kernelspec": {
   "display_name": "base",
   "language": "python",
   "name": "python3"
  },
  "language_info": {
   "codemirror_mode": {
    "name": "ipython",
    "version": 3
   },
   "file_extension": ".py",
   "mimetype": "text/x-python",
   "name": "python",
   "nbconvert_exporter": "python",
   "pygments_lexer": "ipython3",
   "version": "3.9.12"
  },
  "orig_nbformat": 4
 },
 "nbformat": 4,
 "nbformat_minor": 2
}
