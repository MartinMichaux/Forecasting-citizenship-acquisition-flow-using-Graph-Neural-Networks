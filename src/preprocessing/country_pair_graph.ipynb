{
 "cells": [
  {
   "cell_type": "code",
   "execution_count": 1,
   "metadata": {
    "collapsed": true
   },
   "outputs": [],
   "source": [
    "import matplotlib.pyplot as plt\n",
    "import pandas as pd\n",
    "import numpy as np"
   ]
  },
  {
   "cell_type": "code",
   "execution_count": 23,
   "outputs": [
    {
     "data": {
      "text/plain": "      Country_x  Year  Carbon Emissions_x  Education Expenditure_x  \\\n0           AUS  2000            339446.6                  4.88731   \n1           AUS  2000            339446.6                  4.88731   \n2           AUS  2000            339446.6                  4.88731   \n3           AUS  2000            339446.6                  4.88731   \n4           AUS  2000            339446.6                  4.88731   \n...         ...   ...                 ...                      ...   \n14737       USA  2020           4817719.0                  6.05000   \n14738       USA  2020           4817719.0                  6.05000   \n14739       USA  2020           4817719.0                  6.05000   \n14740       USA  2020           4817719.0                  6.05000   \n14741       USA  2020           4817719.0                  6.05000   \n\n       Foreign Direct Investment (FDI) Inflows_x         GDP_x  \\\n0                                   1.489298e+10  4.158513e+11   \n1                                   1.489298e+10  4.158513e+11   \n2                                   1.489298e+10  4.158513e+11   \n3                                   1.489298e+10  4.158513e+11   \n4                                   1.489298e+10  4.158513e+11   \n...                                          ...           ...   \n14737                               1.489120e+11  2.106047e+13   \n14738                               1.489120e+11  2.106047e+13   \n14739                               1.489120e+11  2.106047e+13   \n14740                               1.489120e+11  2.106047e+13   \n14741                               1.489120e+11  2.106047e+13   \n\n       Health Expenditure_x  Inflation Rate_x  Internet Penetration_x  \\\n0                  7.599617          4.457435               46.756116   \n1                  7.599617          4.457435               46.756116   \n2                  7.599617          4.457435               46.756116   \n3                  7.599617          4.457435               46.756116   \n4                  7.599617          4.457435               46.756116   \n...                     ...               ...                     ...   \n14737             18.815826          1.233584               90.620470   \n14738             18.815826          1.233584               90.620470   \n14739             18.815826          1.233584               90.620470   \n14740             18.815826          1.233584               90.620470   \n14741             18.815826          1.233584               90.620470   \n\n       Life Expectancy_x  ...  Education Expenditure_y  \\\n0              79.234146  ...                  5.58881   \n1              79.234146  ...                  5.79586   \n2              79.234146  ...                  5.42332   \n3              79.234146  ...                  4.64837   \n4              79.234146  ...                  3.77583   \n...                  ...  ...                      ...   \n14737          76.980488  ...                  5.90000   \n14738          76.980488  ...                  5.98000   \n14739          76.980488  ...                  5.19000   \n14740          76.980488  ...                  5.76000   \n14741          76.980488  ...                  7.17000   \n\n       Foreign Direct Investment (FDI) Inflows_y         GDP_y  \\\n0                                   8.501013e+09  1.972896e+11   \n1                                   8.873871e+10  2.367925e+11   \n2                                   6.830335e+10  7.447734e+11   \n3                                   2.308088e+10  2.792160e+11   \n4                                   4.860016e+09  7.824988e+10   \n...                                          ...           ...   \n14737                              -4.102660e+09  3.621983e+11   \n14738                               4.135120e+09  2.117345e+11   \n14739                               1.915100e+10  5.994492e+11   \n14740                               5.062695e+08  5.370680e+10   \n14741                               1.890484e+10  5.470542e+11   \n\n       Health Expenditure_y  Inflation Rate_y  Internet Penetration_y  \\\n0                  9.203713          2.344863               33.730133   \n1                  7.999176          2.544518               29.431692   \n2                  8.248144          2.719440               51.300000   \n3                  9.114019          1.558529               47.100000   \n4                  7.035177          3.843273               16.600000   \n...                     ...               ...                     ...   \n14737             11.417550          1.286585               97.000001   \n14738             10.028587          1.714562               92.865074   \n14739              6.493102          3.374470               83.184887   \n14740              9.453579         -0.054857               86.601301   \n14741             11.379928          0.497367               94.539431   \n\n       Life Expectancy_y  Renewable Energy Production_y  Unemployment Rate_y  \\\n0              78.126829                          26.44                 4.69   \n1              77.721951                           1.44                 6.59   \n2              79.166829                          22.04                 6.83   \n3              79.680488                          18.19                 2.66   \n4              76.870000                          31.36                10.49   \n...                  ...                            ...                  ...   \n14737          83.209756                          62.37                 4.42   \n14738          82.256098                          29.65                 4.60   \n14739          76.500000                          12.18                 3.16   \n14740          80.531707                          20.86                 4.97   \n14741          82.356098                          52.88                 8.29   \n\n           y  \n0        9.0  \n1       17.0  \n2      150.0  \n3       64.0  \n4        0.0  \n...      ...  \n14737  243.0  \n14738  577.0  \n14739   15.0  \n14740    1.0  \n14741  796.0  \n\n[14742 rows x 24 columns]",
      "text/html": "<div>\n<style scoped>\n    .dataframe tbody tr th:only-of-type {\n        vertical-align: middle;\n    }\n\n    .dataframe tbody tr th {\n        vertical-align: top;\n    }\n\n    .dataframe thead th {\n        text-align: right;\n    }\n</style>\n<table border=\"1\" class=\"dataframe\">\n  <thead>\n    <tr style=\"text-align: right;\">\n      <th></th>\n      <th>Country_x</th>\n      <th>Year</th>\n      <th>Carbon Emissions_x</th>\n      <th>Education Expenditure_x</th>\n      <th>Foreign Direct Investment (FDI) Inflows_x</th>\n      <th>GDP_x</th>\n      <th>Health Expenditure_x</th>\n      <th>Inflation Rate_x</th>\n      <th>Internet Penetration_x</th>\n      <th>Life Expectancy_x</th>\n      <th>...</th>\n      <th>Education Expenditure_y</th>\n      <th>Foreign Direct Investment (FDI) Inflows_y</th>\n      <th>GDP_y</th>\n      <th>Health Expenditure_y</th>\n      <th>Inflation Rate_y</th>\n      <th>Internet Penetration_y</th>\n      <th>Life Expectancy_y</th>\n      <th>Renewable Energy Production_y</th>\n      <th>Unemployment Rate_y</th>\n      <th>y</th>\n    </tr>\n  </thead>\n  <tbody>\n    <tr>\n      <th>0</th>\n      <td>AUS</td>\n      <td>2000</td>\n      <td>339446.6</td>\n      <td>4.88731</td>\n      <td>1.489298e+10</td>\n      <td>4.158513e+11</td>\n      <td>7.599617</td>\n      <td>4.457435</td>\n      <td>46.756116</td>\n      <td>79.234146</td>\n      <td>...</td>\n      <td>5.58881</td>\n      <td>8.501013e+09</td>\n      <td>1.972896e+11</td>\n      <td>9.203713</td>\n      <td>2.344863</td>\n      <td>33.730133</td>\n      <td>78.126829</td>\n      <td>26.44</td>\n      <td>4.69</td>\n      <td>9.0</td>\n    </tr>\n    <tr>\n      <th>1</th>\n      <td>AUS</td>\n      <td>2000</td>\n      <td>339446.6</td>\n      <td>4.88731</td>\n      <td>1.489298e+10</td>\n      <td>4.158513e+11</td>\n      <td>7.599617</td>\n      <td>4.457435</td>\n      <td>46.756116</td>\n      <td>79.234146</td>\n      <td>...</td>\n      <td>5.79586</td>\n      <td>8.873871e+10</td>\n      <td>2.367925e+11</td>\n      <td>7.999176</td>\n      <td>2.544518</td>\n      <td>29.431692</td>\n      <td>77.721951</td>\n      <td>1.44</td>\n      <td>6.59</td>\n      <td>17.0</td>\n    </tr>\n    <tr>\n      <th>2</th>\n      <td>AUS</td>\n      <td>2000</td>\n      <td>339446.6</td>\n      <td>4.88731</td>\n      <td>1.489298e+10</td>\n      <td>4.158513e+11</td>\n      <td>7.599617</td>\n      <td>4.457435</td>\n      <td>46.756116</td>\n      <td>79.234146</td>\n      <td>...</td>\n      <td>5.42332</td>\n      <td>6.830335e+10</td>\n      <td>7.447734e+11</td>\n      <td>8.248144</td>\n      <td>2.719440</td>\n      <td>51.300000</td>\n      <td>79.166829</td>\n      <td>22.04</td>\n      <td>6.83</td>\n      <td>150.0</td>\n    </tr>\n    <tr>\n      <th>3</th>\n      <td>AUS</td>\n      <td>2000</td>\n      <td>339446.6</td>\n      <td>4.88731</td>\n      <td>1.489298e+10</td>\n      <td>4.158513e+11</td>\n      <td>7.599617</td>\n      <td>4.457435</td>\n      <td>46.756116</td>\n      <td>79.234146</td>\n      <td>...</td>\n      <td>4.64837</td>\n      <td>2.308088e+10</td>\n      <td>2.792160e+11</td>\n      <td>9.114019</td>\n      <td>1.558529</td>\n      <td>47.100000</td>\n      <td>79.680488</td>\n      <td>18.19</td>\n      <td>2.66</td>\n      <td>64.0</td>\n    </tr>\n    <tr>\n      <th>4</th>\n      <td>AUS</td>\n      <td>2000</td>\n      <td>339446.6</td>\n      <td>4.88731</td>\n      <td>1.489298e+10</td>\n      <td>4.158513e+11</td>\n      <td>7.599617</td>\n      <td>4.457435</td>\n      <td>46.756116</td>\n      <td>79.234146</td>\n      <td>...</td>\n      <td>3.77583</td>\n      <td>4.860016e+09</td>\n      <td>7.824988e+10</td>\n      <td>7.035177</td>\n      <td>3.843273</td>\n      <td>16.600000</td>\n      <td>76.870000</td>\n      <td>31.36</td>\n      <td>10.49</td>\n      <td>0.0</td>\n    </tr>\n    <tr>\n      <th>...</th>\n      <td>...</td>\n      <td>...</td>\n      <td>...</td>\n      <td>...</td>\n      <td>...</td>\n      <td>...</td>\n      <td>...</td>\n      <td>...</td>\n      <td>...</td>\n      <td>...</td>\n      <td>...</td>\n      <td>...</td>\n      <td>...</td>\n      <td>...</td>\n      <td>...</td>\n      <td>...</td>\n      <td>...</td>\n      <td>...</td>\n      <td>...</td>\n      <td>...</td>\n      <td>...</td>\n    </tr>\n    <tr>\n      <th>14737</th>\n      <td>USA</td>\n      <td>2020</td>\n      <td>4817719.0</td>\n      <td>6.05000</td>\n      <td>1.489120e+11</td>\n      <td>2.106047e+13</td>\n      <td>18.815826</td>\n      <td>1.233584</td>\n      <td>90.620470</td>\n      <td>76.980488</td>\n      <td>...</td>\n      <td>5.90000</td>\n      <td>-4.102660e+09</td>\n      <td>3.621983e+11</td>\n      <td>11.417550</td>\n      <td>1.286585</td>\n      <td>97.000001</td>\n      <td>83.209756</td>\n      <td>62.37</td>\n      <td>4.42</td>\n      <td>243.0</td>\n    </tr>\n    <tr>\n      <th>14738</th>\n      <td>USA</td>\n      <td>2020</td>\n      <td>4817719.0</td>\n      <td>6.05000</td>\n      <td>1.489120e+11</td>\n      <td>2.106047e+13</td>\n      <td>18.815826</td>\n      <td>1.233584</td>\n      <td>90.620470</td>\n      <td>76.980488</td>\n      <td>...</td>\n      <td>5.98000</td>\n      <td>4.135120e+09</td>\n      <td>2.117345e+11</td>\n      <td>10.028587</td>\n      <td>1.714562</td>\n      <td>92.865074</td>\n      <td>82.256098</td>\n      <td>29.65</td>\n      <td>4.60</td>\n      <td>577.0</td>\n    </tr>\n    <tr>\n      <th>14739</th>\n      <td>USA</td>\n      <td>2020</td>\n      <td>4817719.0</td>\n      <td>6.05000</td>\n      <td>1.489120e+11</td>\n      <td>2.106047e+13</td>\n      <td>18.815826</td>\n      <td>1.233584</td>\n      <td>90.620470</td>\n      <td>76.980488</td>\n      <td>...</td>\n      <td>5.19000</td>\n      <td>1.915100e+10</td>\n      <td>5.994492e+11</td>\n      <td>6.493102</td>\n      <td>3.374470</td>\n      <td>83.184887</td>\n      <td>76.500000</td>\n      <td>12.18</td>\n      <td>3.16</td>\n      <td>15.0</td>\n    </tr>\n    <tr>\n      <th>14740</th>\n      <td>USA</td>\n      <td>2020</td>\n      <td>4817719.0</td>\n      <td>6.05000</td>\n      <td>1.489120e+11</td>\n      <td>2.106047e+13</td>\n      <td>18.815826</td>\n      <td>1.233584</td>\n      <td>90.620470</td>\n      <td>76.980488</td>\n      <td>...</td>\n      <td>5.76000</td>\n      <td>5.062695e+08</td>\n      <td>5.370680e+10</td>\n      <td>9.453579</td>\n      <td>-0.054857</td>\n      <td>86.601301</td>\n      <td>80.531707</td>\n      <td>20.86</td>\n      <td>4.97</td>\n      <td>1.0</td>\n    </tr>\n    <tr>\n      <th>14741</th>\n      <td>USA</td>\n      <td>2020</td>\n      <td>4817719.0</td>\n      <td>6.05000</td>\n      <td>1.489120e+11</td>\n      <td>2.106047e+13</td>\n      <td>18.815826</td>\n      <td>1.233584</td>\n      <td>90.620470</td>\n      <td>76.980488</td>\n      <td>...</td>\n      <td>7.17000</td>\n      <td>1.890484e+10</td>\n      <td>5.470542e+11</td>\n      <td>11.379928</td>\n      <td>0.497367</td>\n      <td>94.539431</td>\n      <td>82.356098</td>\n      <td>52.88</td>\n      <td>8.29</td>\n      <td>796.0</td>\n    </tr>\n  </tbody>\n</table>\n<p>14742 rows × 24 columns</p>\n</div>"
     },
     "execution_count": 23,
     "metadata": {},
     "output_type": "execute_result"
    }
   ],
   "source": [
    "# prepare data:\n",
    "# each node is pair of countries, order matters so AB and BA are two different nodes\n",
    "# edges are based on similarity\n",
    "# node features are the concatenated features of the country pairs (in the correct order)\n",
    "# build such a graph for each year separately\n",
    "feature_data = pd.read_csv('../data/features/features_interpolated.csv', encoding='latin-1', engine='python')\n",
    "feature_data.drop(columns=['Unnamed: 0'], inplace=True)\n",
    "migration_data = pd.read_csv('../data/labels/OECD_acquisition_data_interpolated.csv', encoding='latin-1', engine='python')\n",
    "migration_data.drop(columns=['Unnamed: 0'], inplace=True)\n",
    "\n",
    "features_per_country = feature_data.columns[2:]\n",
    "years = migration_data['Year'].unique()\n",
    "countries = migration_data['CO2'].unique()\n",
    "\n",
    "merged_data = pd.merge(feature_data, migration_data, left_on=[\"Country\", \"Year\"], right_on=[\"COU\", \"Year\"])\n",
    "\n",
    "# Merge the third dataset based on country and year\n",
    "merged_data = pd.merge(feature_data, merged_data, left_on=[\"Country\", \"Year\"], right_on=[\"CO2\", \"Year\"])\n",
    "\n",
    "merged_data.drop(columns=[\"COU\", \"CO2\"], inplace=True)\n",
    "\n",
    "label_column = \"y\"\n",
    "merged_data.rename(columns={\"Value\": \"y\"}, inplace=True)\n",
    "merged_data"
   ],
   "metadata": {
    "collapsed": false
   }
  },
  {
   "cell_type": "code",
   "execution_count": 20,
   "outputs": [],
   "source": [
    "per_year_df = merged_data[merged_data[\"Year\"] == 2000]"
   ],
   "metadata": {
    "collapsed": false
   }
  },
  {
   "cell_type": "code",
   "execution_count": 44,
   "outputs": [
    {
     "data": {
      "text/plain": "      Country_x  Year  Carbon Emissions_x  Education Expenditure_x  \\\n0           AUS  2000           -0.034998                -0.454657   \n1           AUS  2000           -0.034998                -0.454657   \n2           AUS  2000           -0.034998                -0.454657   \n3           AUS  2000           -0.034998                -0.454657   \n4           AUS  2000           -0.034998                -0.454657   \n...         ...   ...                 ...                      ...   \n14737       USA  2020            4.487322                 0.587816   \n14738       USA  2020            4.487322                 0.587816   \n14739       USA  2020            4.487322                 0.587816   \n14740       USA  2020            4.487322                 0.587816   \n14741       USA  2020            4.487322                 0.587816   \n\n       Foreign Direct Investment (FDI) Inflows_x     GDP_x  \\\n0                                      -0.289280 -0.298431   \n1                                      -0.289280 -0.298431   \n2                                      -0.289280 -0.298431   \n3                                      -0.289280 -0.298431   \n4                                      -0.289280 -0.298431   \n...                                          ...       ...   \n14737                                   1.362627  6.584184   \n14738                                   1.362627  6.584184   \n14739                                   1.362627  6.584184   \n14740                                   1.362627  6.584184   \n14741                                   1.362627  6.584184   \n\n       Health Expenditure_x  Inflation Rate_x  Internet Penetration_x  \\\n0                 -0.607745          1.153977               -0.938189   \n1                 -0.607745          1.153977               -0.938189   \n2                 -0.607745          1.153977               -0.938189   \n3                 -0.607745          1.153977               -0.938189   \n4                 -0.607745          1.153977               -0.938189   \n...                     ...               ...                     ...   \n14737              4.673587         -0.523285                0.959502   \n14738              4.673587         -0.523285                0.959502   \n14739              4.673587         -0.523285                0.959502   \n14740              4.673587         -0.523285                0.959502   \n14741              4.673587         -0.523285                0.959502   \n\n       Life Expectancy_x  ...  Education Expenditure_y  \\\n0              -0.116250  ...                 0.174311   \n1              -0.116250  ...                 0.359953   \n2              -0.116250  ...                 0.025932   \n3              -0.116250  ...                -0.668892   \n4              -0.116250  ...                -1.451215   \n...                  ...  ...                      ...   \n14737          -0.935055  ...                 0.453325   \n14738          -0.935055  ...                 0.525054   \n14739          -0.935055  ...                -0.183264   \n14740          -0.935055  ...                 0.327801   \n14741          -0.935055  ...                 1.592013   \n\n       Foreign Direct Investment (FDI) Inflows_y     GDP_y  \\\n0                                      -0.368066 -0.371296   \n1                                       0.620936 -0.358126   \n2                                       0.369052 -0.188773   \n3                                      -0.188356 -0.343983   \n4                                      -0.412945 -0.410982   \n...                                          ...       ...   \n14737                                  -0.523418 -0.316318   \n14738                                  -0.421880 -0.366480   \n14739                                  -0.236796 -0.237222   \n14740                                  -0.466609 -0.419164   \n14741                                  -0.239830 -0.254690   \n\n       Health Expenditure_y  Inflation Rate_y  Internet Penetration_y  \\\n0                  0.147570          0.054876               -1.501728   \n1                 -0.419606          0.158750               -1.687690   \n2                 -0.302375          0.249756               -0.741608   \n3                  0.105336         -0.354227               -0.923311   \n4                 -0.873520          0.834449               -2.242824   \n...                     ...               ...                     ...   \n14737              1.189990         -0.495711                1.235498   \n14738              0.535975         -0.273049                1.056610   \n14739             -1.128765          0.590546                0.637819   \n14740              0.265223         -1.193618                0.785622   \n14741              1.172275         -0.906314                1.129047   \n\n       Life Expectancy_y  Renewable Energy Production_y  Unemployment Rate_y  \\\n0              -0.518563                       0.333188            -0.646840   \n1              -0.665665                      -1.111867            -0.175451   \n2              -0.140708                       0.078859            -0.115907   \n3               0.045915                      -0.143680            -1.150481   \n4              -0.975198                       0.617575             0.792136   \n...                  ...                            ...                  ...   \n14737           1.328177                       2.410022            -0.713827   \n14738           0.981692                       0.518734            -0.669169   \n14739          -1.109627                      -0.491071            -1.026432   \n14740           0.355182                       0.010652            -0.577372   \n14741           1.018024                       1.861479             0.246318   \n\n           y  \n0        9.0  \n1       17.0  \n2      150.0  \n3       64.0  \n4        0.0  \n...      ...  \n14737  243.0  \n14738  577.0  \n14739   15.0  \n14740    1.0  \n14741  796.0  \n\n[14742 rows x 24 columns]",
      "text/html": "<div>\n<style scoped>\n    .dataframe tbody tr th:only-of-type {\n        vertical-align: middle;\n    }\n\n    .dataframe tbody tr th {\n        vertical-align: top;\n    }\n\n    .dataframe thead th {\n        text-align: right;\n    }\n</style>\n<table border=\"1\" class=\"dataframe\">\n  <thead>\n    <tr style=\"text-align: right;\">\n      <th></th>\n      <th>Country_x</th>\n      <th>Year</th>\n      <th>Carbon Emissions_x</th>\n      <th>Education Expenditure_x</th>\n      <th>Foreign Direct Investment (FDI) Inflows_x</th>\n      <th>GDP_x</th>\n      <th>Health Expenditure_x</th>\n      <th>Inflation Rate_x</th>\n      <th>Internet Penetration_x</th>\n      <th>Life Expectancy_x</th>\n      <th>...</th>\n      <th>Education Expenditure_y</th>\n      <th>Foreign Direct Investment (FDI) Inflows_y</th>\n      <th>GDP_y</th>\n      <th>Health Expenditure_y</th>\n      <th>Inflation Rate_y</th>\n      <th>Internet Penetration_y</th>\n      <th>Life Expectancy_y</th>\n      <th>Renewable Energy Production_y</th>\n      <th>Unemployment Rate_y</th>\n      <th>y</th>\n    </tr>\n  </thead>\n  <tbody>\n    <tr>\n      <th>0</th>\n      <td>AUS</td>\n      <td>2000</td>\n      <td>-0.034998</td>\n      <td>-0.454657</td>\n      <td>-0.289280</td>\n      <td>-0.298431</td>\n      <td>-0.607745</td>\n      <td>1.153977</td>\n      <td>-0.938189</td>\n      <td>-0.116250</td>\n      <td>...</td>\n      <td>0.174311</td>\n      <td>-0.368066</td>\n      <td>-0.371296</td>\n      <td>0.147570</td>\n      <td>0.054876</td>\n      <td>-1.501728</td>\n      <td>-0.518563</td>\n      <td>0.333188</td>\n      <td>-0.646840</td>\n      <td>9.0</td>\n    </tr>\n    <tr>\n      <th>1</th>\n      <td>AUS</td>\n      <td>2000</td>\n      <td>-0.034998</td>\n      <td>-0.454657</td>\n      <td>-0.289280</td>\n      <td>-0.298431</td>\n      <td>-0.607745</td>\n      <td>1.153977</td>\n      <td>-0.938189</td>\n      <td>-0.116250</td>\n      <td>...</td>\n      <td>0.359953</td>\n      <td>0.620936</td>\n      <td>-0.358126</td>\n      <td>-0.419606</td>\n      <td>0.158750</td>\n      <td>-1.687690</td>\n      <td>-0.665665</td>\n      <td>-1.111867</td>\n      <td>-0.175451</td>\n      <td>17.0</td>\n    </tr>\n    <tr>\n      <th>2</th>\n      <td>AUS</td>\n      <td>2000</td>\n      <td>-0.034998</td>\n      <td>-0.454657</td>\n      <td>-0.289280</td>\n      <td>-0.298431</td>\n      <td>-0.607745</td>\n      <td>1.153977</td>\n      <td>-0.938189</td>\n      <td>-0.116250</td>\n      <td>...</td>\n      <td>0.025932</td>\n      <td>0.369052</td>\n      <td>-0.188773</td>\n      <td>-0.302375</td>\n      <td>0.249756</td>\n      <td>-0.741608</td>\n      <td>-0.140708</td>\n      <td>0.078859</td>\n      <td>-0.115907</td>\n      <td>150.0</td>\n    </tr>\n    <tr>\n      <th>3</th>\n      <td>AUS</td>\n      <td>2000</td>\n      <td>-0.034998</td>\n      <td>-0.454657</td>\n      <td>-0.289280</td>\n      <td>-0.298431</td>\n      <td>-0.607745</td>\n      <td>1.153977</td>\n      <td>-0.938189</td>\n      <td>-0.116250</td>\n      <td>...</td>\n      <td>-0.668892</td>\n      <td>-0.188356</td>\n      <td>-0.343983</td>\n      <td>0.105336</td>\n      <td>-0.354227</td>\n      <td>-0.923311</td>\n      <td>0.045915</td>\n      <td>-0.143680</td>\n      <td>-1.150481</td>\n      <td>64.0</td>\n    </tr>\n    <tr>\n      <th>4</th>\n      <td>AUS</td>\n      <td>2000</td>\n      <td>-0.034998</td>\n      <td>-0.454657</td>\n      <td>-0.289280</td>\n      <td>-0.298431</td>\n      <td>-0.607745</td>\n      <td>1.153977</td>\n      <td>-0.938189</td>\n      <td>-0.116250</td>\n      <td>...</td>\n      <td>-1.451215</td>\n      <td>-0.412945</td>\n      <td>-0.410982</td>\n      <td>-0.873520</td>\n      <td>0.834449</td>\n      <td>-2.242824</td>\n      <td>-0.975198</td>\n      <td>0.617575</td>\n      <td>0.792136</td>\n      <td>0.0</td>\n    </tr>\n    <tr>\n      <th>...</th>\n      <td>...</td>\n      <td>...</td>\n      <td>...</td>\n      <td>...</td>\n      <td>...</td>\n      <td>...</td>\n      <td>...</td>\n      <td>...</td>\n      <td>...</td>\n      <td>...</td>\n      <td>...</td>\n      <td>...</td>\n      <td>...</td>\n      <td>...</td>\n      <td>...</td>\n      <td>...</td>\n      <td>...</td>\n      <td>...</td>\n      <td>...</td>\n      <td>...</td>\n      <td>...</td>\n    </tr>\n    <tr>\n      <th>14737</th>\n      <td>USA</td>\n      <td>2020</td>\n      <td>4.487322</td>\n      <td>0.587816</td>\n      <td>1.362627</td>\n      <td>6.584184</td>\n      <td>4.673587</td>\n      <td>-0.523285</td>\n      <td>0.959502</td>\n      <td>-0.935055</td>\n      <td>...</td>\n      <td>0.453325</td>\n      <td>-0.523418</td>\n      <td>-0.316318</td>\n      <td>1.189990</td>\n      <td>-0.495711</td>\n      <td>1.235498</td>\n      <td>1.328177</td>\n      <td>2.410022</td>\n      <td>-0.713827</td>\n      <td>243.0</td>\n    </tr>\n    <tr>\n      <th>14738</th>\n      <td>USA</td>\n      <td>2020</td>\n      <td>4.487322</td>\n      <td>0.587816</td>\n      <td>1.362627</td>\n      <td>6.584184</td>\n      <td>4.673587</td>\n      <td>-0.523285</td>\n      <td>0.959502</td>\n      <td>-0.935055</td>\n      <td>...</td>\n      <td>0.525054</td>\n      <td>-0.421880</td>\n      <td>-0.366480</td>\n      <td>0.535975</td>\n      <td>-0.273049</td>\n      <td>1.056610</td>\n      <td>0.981692</td>\n      <td>0.518734</td>\n      <td>-0.669169</td>\n      <td>577.0</td>\n    </tr>\n    <tr>\n      <th>14739</th>\n      <td>USA</td>\n      <td>2020</td>\n      <td>4.487322</td>\n      <td>0.587816</td>\n      <td>1.362627</td>\n      <td>6.584184</td>\n      <td>4.673587</td>\n      <td>-0.523285</td>\n      <td>0.959502</td>\n      <td>-0.935055</td>\n      <td>...</td>\n      <td>-0.183264</td>\n      <td>-0.236796</td>\n      <td>-0.237222</td>\n      <td>-1.128765</td>\n      <td>0.590546</td>\n      <td>0.637819</td>\n      <td>-1.109627</td>\n      <td>-0.491071</td>\n      <td>-1.026432</td>\n      <td>15.0</td>\n    </tr>\n    <tr>\n      <th>14740</th>\n      <td>USA</td>\n      <td>2020</td>\n      <td>4.487322</td>\n      <td>0.587816</td>\n      <td>1.362627</td>\n      <td>6.584184</td>\n      <td>4.673587</td>\n      <td>-0.523285</td>\n      <td>0.959502</td>\n      <td>-0.935055</td>\n      <td>...</td>\n      <td>0.327801</td>\n      <td>-0.466609</td>\n      <td>-0.419164</td>\n      <td>0.265223</td>\n      <td>-1.193618</td>\n      <td>0.785622</td>\n      <td>0.355182</td>\n      <td>0.010652</td>\n      <td>-0.577372</td>\n      <td>1.0</td>\n    </tr>\n    <tr>\n      <th>14741</th>\n      <td>USA</td>\n      <td>2020</td>\n      <td>4.487322</td>\n      <td>0.587816</td>\n      <td>1.362627</td>\n      <td>6.584184</td>\n      <td>4.673587</td>\n      <td>-0.523285</td>\n      <td>0.959502</td>\n      <td>-0.935055</td>\n      <td>...</td>\n      <td>1.592013</td>\n      <td>-0.239830</td>\n      <td>-0.254690</td>\n      <td>1.172275</td>\n      <td>-0.906314</td>\n      <td>1.129047</td>\n      <td>1.018024</td>\n      <td>1.861479</td>\n      <td>0.246318</td>\n      <td>796.0</td>\n    </tr>\n  </tbody>\n</table>\n<p>14742 rows × 24 columns</p>\n</div>"
     },
     "execution_count": 44,
     "metadata": {},
     "output_type": "execute_result"
    }
   ],
   "source": [
    "\n",
    "cols_to_skip = [\"Country_x\", \"Country_y\", \"Year\", \"y\"]\n",
    "cols_to_norm = list(set(merged_data.columns).difference(set(cols_to_skip)))\n",
    "\n",
    "# normalize data\n",
    "merged_data[cols_to_norm] = (merged_data[cols_to_norm]-merged_data[cols_to_norm].mean())/merged_data[cols_to_norm].std()\n",
    "merged_data"
   ],
   "metadata": {
    "collapsed": false
   }
  },
  {
   "cell_type": "code",
   "execution_count": 77,
   "outputs": [
    {
     "name": "stderr",
     "output_type": "stream",
     "text": [
      "100%|██████████| 21/21 [00:17<00:00,  1.20it/s]\n"
     ]
    }
   ],
   "source": [
    "from tqdm import tqdm\n",
    "import networkx as nx\n",
    "from sklearn.neighbors import NearestNeighbors, KDTree\n",
    "\n",
    "graphs=[]\n",
    "k = 30\n",
    "\n",
    "# for each year create the graph\n",
    "for year in tqdm(years):\n",
    "    # empty graph\n",
    "    graph = nx.Graph()\n",
    "\n",
    "    per_year_df = merged_data[merged_data['Year'] == year].reset_index(drop=True)\n",
    "    # Create a NearestNeighbors model\n",
    "    neighbors = KDTree(per_year_df[cols_to_norm], metric='euclidean')\n",
    "\n",
    "    indices = neighbors.query_radius(per_year_df[cols_to_norm], r=1.5)\n",
    "\n",
    "    for i, row in per_year_df.iterrows():\n",
    "        graph.add_node(row['Country_x']+\"_\"+row['Country_y'], x=row[cols_to_norm], y=row[label_column])\n",
    "    for i, jx in enumerate(indices):\n",
    "        src_node = per_year_df.iloc[i]['Country_x']+\"_\"+per_year_df.iloc[i]['Country_y']\n",
    "        for j in indices[i]:\n",
    "            tar_node = per_year_df.iloc[j]['Country_x']+\"_\"+per_year_df.iloc[j]['Country_y']\n",
    "            graph.add_edge(src_node, tar_node)\n",
    "    graph.remove_edges_from(list(nx.selfloop_edges(graph)))\n",
    "    graphs.append(graph)"
   ],
   "metadata": {
    "collapsed": false
   }
  },
  {
   "cell_type": "code",
   "execution_count": 115,
   "outputs": [
    {
     "data": {
      "text/plain": "Data(x=[702, 20], edge_index=[2, 900], y=[702, 1])"
     },
     "execution_count": 115,
     "metadata": {},
     "output_type": "execute_result"
    }
   ],
   "source": [
    "from torch_geometric.utils.convert import from_networkx\n",
    "data_graphs = [from_networkx(graphs[i]) for i in range(len(graphs))]\n",
    "for i in range(len(data_graphs)):\n",
    "    data_graphs[i].y = data_graphs[i].y.reshape(-1, 1)\n",
    "data_graphs[0]"
   ],
   "metadata": {
    "collapsed": false
   }
  },
  {
   "cell_type": "code",
   "execution_count": 116,
   "outputs": [],
   "source": [
    "train_data = data_graphs[:17]\n",
    "test_data = data_graphs[17:]"
   ],
   "metadata": {
    "collapsed": false
   }
  },
  {
   "cell_type": "code",
   "execution_count": 117,
   "outputs": [],
   "source": [
    "import time\n",
    "import torch\n",
    "import pickle\n",
    "import numpy as np\n",
    "import torch.nn as nn\n",
    "import matplotlib.pyplot as plt\n",
    "from torch_geometric.nn import TAGConv, GATv2Conv\n",
    "from torch.nn import Sequential, Linear, ReLU\n",
    "from torch_geometric.loader import DataLoader as pyg_DataLoader\n",
    "\n",
    "\n",
    "\n",
    "class GNN_Example(nn.Module):\n",
    "  \"\"\"\n",
    "    This class defines a PyTorch module that takes in a graph represented in the PyTorch Geometric Data format,\n",
    "    and outputs a tensor of predictions for each node in the graph. The model consists of one or more TAGConv layers,\n",
    "    which are a type of graph convolutional layer.\n",
    "\n",
    "    Args:\n",
    "        node_dim (int): The number of node inputs.\n",
    "        edge_dim (int): The number of edge inputs.\n",
    "        output_dim (int, optional): The number of outputs (default: 1).\n",
    "        hidden_dim (int, optional): The number of hidden units in each GNN layer (default: 50).\n",
    "        n_gnn_layers (int, optional): The number of GNN layers in the model (default: 1).\n",
    "        K (int, optional): The number of hops in the neighbourhood for each GNN layer (default: 2).\n",
    "        dropout_rate (float, optional): The dropout rate to be applied to the output of each GNN layer (default: 0).\n",
    "\n",
    "    \"\"\"\n",
    "  def __init__(self, node_dim, output_dim=1, hidden_dim=50, n_gnn_layers=1, K=2, dropout_rate=0):\n",
    "    super().__init__()\n",
    "    self.node_dim = node_dim\n",
    "    self.output_dim = output_dim\n",
    "    self.hidden_dim = hidden_dim\n",
    "    self.n_gnn_layers = n_gnn_layers\n",
    "    self.K = K\n",
    "    self.dropout_rate = dropout_rate\n",
    "\n",
    "    self.convs = nn.ModuleList()\n",
    "\n",
    "    if n_gnn_layers == 1:\n",
    "      self.convs.append(TAGConv(node_dim, output_dim, K=K))\n",
    "    else:\n",
    "      self.convs.append(TAGConv(node_dim, hidden_dim, K=K))\n",
    "\n",
    "      for l in range(n_gnn_layers-2):\n",
    "          self.convs.append(TAGConv(hidden_dim, hidden_dim, K=K))\n",
    "\n",
    "      self.convs.append(TAGConv(hidden_dim, output_dim, K=K))\n",
    "\n",
    "  def forward(self, data):\n",
    "      \"\"\"Applies the GNN to the input graph.\n",
    "\n",
    "        Args:\n",
    "            data (Data): A PyTorch Geometric Data object representing the input graph.\n",
    "\n",
    "        Returns:\n",
    "            torch.Tensor: The output tensor of the GNN.\n",
    "\n",
    "        \"\"\"\n",
    "      x = data.x\n",
    "      edge_index = data.edge_index\n",
    "\n",
    "      for i in range(len(self.convs)-1):\n",
    "          x = self.convs[i](x=x, edge_index=edge_index)\n",
    "          x = nn.Dropout(self.dropout_rate, inplace=False)(x)\n",
    "          x = nn.PReLU()(x)\n",
    "\n",
    "      x = self.convs[-1](x=x, edge_index=edge_index)\n",
    "      # x = nn.Sigmoid()(x)\n",
    "\n",
    "      return x"
   ],
   "metadata": {
    "collapsed": false
   }
  },
  {
   "cell_type": "code",
   "execution_count": 118,
   "outputs": [
    {
     "name": "stdout",
     "output_type": "stream",
     "text": [
      "GNN_Example(\n",
      "  (convs): ModuleList(\n",
      "    (0): TAGConv(20, 32, K=1)\n",
      "    (1): TAGConv(32, 32, K=1)\n",
      "    (2): TAGConv(32, 1, K=1)\n",
      "  )\n",
      ")\n"
     ]
    }
   ],
   "source": [
    "# Set model parameters\n",
    "node_dim = train_data[0].x.shape[1]\n",
    "output_dim = 1\n",
    "hidden_dim = 32\n",
    "n_gnn_layers = 3\n",
    "K=1\n",
    "dropout_rate = 0\n",
    "\n",
    "# Create model\n",
    "model = GNN_Example(node_dim, output_dim, hidden_dim, n_gnn_layers, K, dropout_rate)\n",
    "print(model)"
   ],
   "metadata": {
    "collapsed": false
   }
  },
  {
   "cell_type": "code",
   "execution_count": 119,
   "outputs": [],
   "source": [
    "def train_epoch(model, loader, optimizer, criterion, device='cpu'):\n",
    "    \"\"\"\n",
    "    Trains a neural network model for one epoch using the specified data loader and optimizer.\n",
    "\n",
    "    Args:\n",
    "        model (nn.Module): The neural network model to be trained.\n",
    "        loader (DataLoader): The PyTorch Geometric DataLoader containing the training data.\n",
    "        optimizer (torch.optim.Optimizer): The PyTorch optimizer used for training the model.\n",
    "        device (str): The device used for training the model (default: 'cpu').\n",
    "\n",
    "    Returns:\n",
    "        float: The mean loss value over all the batches in the DataLoader.\n",
    "\n",
    "    \"\"\"\n",
    "    model.train()\n",
    "    total_loss = 0\n",
    "    for batch in loader:\n",
    "        optimizer.zero_grad()  # Clear gradients.\n",
    "        out = model(batch)  # Perform a single forward pass.\n",
    "        loss = criterion(out, batch.y)  # Compute the loss solely based on the training nodes.\n",
    "        total_loss += loss\n",
    "        loss.backward()  # Derive gradients.\n",
    "        optimizer.step()  # Update parameters based on gradients.\n",
    "    return total_loss / len(loader)"
   ],
   "metadata": {
    "collapsed": false
   }
  },
  {
   "cell_type": "code",
   "execution_count": 120,
   "outputs": [],
   "source": [
    "def evaluate_epoch(model, loader, criterion, device='cpu'):\n",
    "    \"\"\"\n",
    "    Evaluates the performance of a trained neural network model on a dataset using the specified data loader.\n",
    "\n",
    "    Args:\n",
    "        model (nn.Module): The trained neural network model to be evaluated.\n",
    "        loader (DataLoader): The PyTorch Geometric DataLoader containing the evaluation data.\n",
    "        device (str): The device used for evaluating the model (default: 'cpu').\n",
    "\n",
    "    Returns:\n",
    "        float: The mean loss value over all the batches in the DataLoader.\n",
    "\n",
    "    \"\"\"\n",
    "    model.eval()\n",
    "    total_loss = 0\n",
    "    for batch in loader:\n",
    "        out = model(batch)\n",
    "        loss = criterion(out, batch.y)\n",
    "        total_loss += loss\n",
    "    return total_loss / len(loader)"
   ],
   "metadata": {
    "collapsed": false
   }
  },
  {
   "cell_type": "code",
   "execution_count": 121,
   "outputs": [
    {
     "name": "stdout",
     "output_type": "stream",
     "text": [
      "cuda:0\n"
     ]
    }
   ],
   "source": [
    "device = torch.device('cuda:0' if torch.cuda.is_available() else 'cpu')\n",
    "print(device)"
   ],
   "metadata": {
    "collapsed": false
   }
  },
  {
   "cell_type": "code",
   "execution_count": 122,
   "outputs": [],
   "source": [
    "# Set training parameters\n",
    "learning_rate = 0.001\n",
    "batch_size = 4\n",
    "num_epochs = 1000\n",
    "\n",
    "# Create the optimizer to train the neural network via back-propagation\n",
    "optimizer = torch.optim.Adam(params=model.parameters(), lr=learning_rate)\n",
    "criterion = nn.MSELoss()\n",
    "\n",
    "# Create the training and validation dataloaders to \"feed\" data to the GNN in batches\n",
    "tra_loader = pyg_DataLoader(train_data, batch_size=batch_size, shuffle=True)\n",
    "val_loader = pyg_DataLoader(test_data, batch_size=batch_size, shuffle=False)"
   ],
   "metadata": {
    "collapsed": false
   }
  },
  {
   "cell_type": "code",
   "execution_count": 125,
   "outputs": [
    {
     "name": "stdout",
     "output_type": "stream",
     "text": [
      "epoch: 10 \t training loss: 15072267.0 \t validation loss: 17505516.0\n",
      "epoch: 20 \t training loss: 15323292.0 \t validation loss: 17500004.0\n",
      "epoch: 30 \t training loss: 14987682.0 \t validation loss: 17481820.0\n",
      "epoch: 40 \t training loss: 15395078.0 \t validation loss: 17471216.0\n",
      "epoch: 50 \t training loss: 15352624.0 \t validation loss: 17448624.0\n",
      "epoch: 60 \t training loss: 24235764.0 \t validation loss: 17430632.0\n",
      "epoch: 70 \t training loss: 16090450.0 \t validation loss: 17389442.0\n",
      "epoch: 80 \t training loss: 15619523.0 \t validation loss: 17405098.0\n",
      "epoch: 90 \t training loss: 24041820.0 \t validation loss: 17405642.0\n",
      "epoch: 100 \t training loss: 20632924.0 \t validation loss: 17379202.0\n",
      "epoch: 110 \t training loss: 15758421.0 \t validation loss: 17346038.0\n",
      "epoch: 120 \t training loss: 15034194.0 \t validation loss: 17317984.0\n",
      "epoch: 130 \t training loss: 14310498.0 \t validation loss: 17274398.0\n",
      "epoch: 140 \t training loss: 15296563.0 \t validation loss: 17283524.0\n",
      "epoch: 150 \t training loss: 14879307.0 \t validation loss: 17243244.0\n",
      "epoch: 160 \t training loss: 14165326.0 \t validation loss: 17231428.0\n",
      "epoch: 170 \t training loss: 15312178.0 \t validation loss: 17245080.0\n",
      "epoch: 180 \t training loss: 15306868.0 \t validation loss: 17184124.0\n",
      "epoch: 190 \t training loss: 14014810.0 \t validation loss: 17179866.0\n",
      "epoch: 200 \t training loss: 15135769.0 \t validation loss: 17152866.0\n",
      "epoch: 210 \t training loss: 15355526.0 \t validation loss: 17111026.0\n",
      "epoch: 220 \t training loss: 15008709.0 \t validation loss: 17102726.0\n",
      "epoch: 230 \t training loss: 23018484.0 \t validation loss: 17011898.0\n",
      "epoch: 240 \t training loss: 14727640.0 \t validation loss: 16993776.0\n",
      "epoch: 250 \t training loss: 22883372.0 \t validation loss: 16967546.0\n",
      "epoch: 260 \t training loss: 15719883.0 \t validation loss: 16868694.0\n",
      "epoch: 270 \t training loss: 13764284.0 \t validation loss: 16857500.0\n",
      "epoch: 280 \t training loss: 15583512.0 \t validation loss: 16813436.0\n",
      "epoch: 290 \t training loss: 22497074.0 \t validation loss: 16731796.0\n",
      "epoch: 300 \t training loss: 14581581.0 \t validation loss: 16652296.0\n",
      "epoch: 310 \t training loss: 22332714.0 \t validation loss: 16642903.0\n",
      "epoch: 320 \t training loss: 14546965.0 \t validation loss: 16638194.0\n",
      "epoch: 330 \t training loss: 14324842.0 \t validation loss: 16518116.0\n",
      "epoch: 340 \t training loss: 22055172.0 \t validation loss: 16523043.0\n",
      "epoch: 350 \t training loss: 13226157.0 \t validation loss: 16468292.0\n",
      "epoch: 360 \t training loss: 18826396.0 \t validation loss: 16402838.0\n",
      "epoch: 370 \t training loss: 13963413.0 \t validation loss: 16338454.0\n",
      "epoch: 380 \t training loss: 13559738.0 \t validation loss: 16330704.0\n",
      "epoch: 390 \t training loss: 13172359.0 \t validation loss: 16181823.0\n",
      "epoch: 400 \t training loss: 18477068.0 \t validation loss: 16194604.0\n",
      "epoch: 410 \t training loss: 13864337.0 \t validation loss: 16191871.0\n",
      "epoch: 420 \t training loss: 12763830.0 \t validation loss: 16151006.0\n",
      "epoch: 430 \t training loss: 13507370.0 \t validation loss: 16083262.0\n",
      "epoch: 440 \t training loss: 13428227.0 \t validation loss: 16062603.0\n",
      "epoch: 450 \t training loss: 13351590.0 \t validation loss: 16016323.0\n",
      "epoch: 460 \t training loss: 12998472.0 \t validation loss: 15928988.0\n",
      "epoch: 470 \t training loss: 13266702.0 \t validation loss: 15750970.0\n",
      "epoch: 480 \t training loss: 14075390.0 \t validation loss: 15654845.0\n",
      "epoch: 490 \t training loss: 13081456.0 \t validation loss: 15693831.0\n",
      "epoch: 500 \t training loss: 12520794.0 \t validation loss: 15585216.0\n",
      "epoch: 510 \t training loss: 12247110.0 \t validation loss: 15605283.0\n",
      "epoch: 520 \t training loss: 12022667.0 \t validation loss: 15426678.0\n",
      "epoch: 530 \t training loss: 12731862.0 \t validation loss: 15384383.0\n",
      "epoch: 540 \t training loss: 11790758.0 \t validation loss: 15332889.0\n",
      "epoch: 550 \t training loss: 12542692.0 \t validation loss: 15181754.0\n",
      "epoch: 560 \t training loss: 11508709.0 \t validation loss: 15107400.0\n",
      "epoch: 570 \t training loss: 12339115.0 \t validation loss: 15031316.0\n",
      "epoch: 580 \t training loss: 12365402.0 \t validation loss: 14834809.0\n",
      "epoch: 590 \t training loss: 16608256.0 \t validation loss: 14877522.0\n",
      "epoch: 600 \t training loss: 11248989.0 \t validation loss: 14751960.0\n",
      "epoch: 610 \t training loss: 11940715.0 \t validation loss: 14664014.0\n",
      "epoch: 620 \t training loss: 11994326.0 \t validation loss: 14625944.0\n",
      "epoch: 630 \t training loss: 11048617.0 \t validation loss: 14535362.0\n",
      "epoch: 640 \t training loss: 11794627.0 \t validation loss: 14465984.0\n",
      "epoch: 650 \t training loss: 11567381.0 \t validation loss: 14487757.0\n",
      "epoch: 660 \t training loss: 18306040.0 \t validation loss: 14374699.0\n",
      "epoch: 670 \t training loss: 18197910.0 \t validation loss: 14428439.0\n",
      "epoch: 680 \t training loss: 11170566.0 \t validation loss: 14343202.0\n",
      "epoch: 690 \t training loss: 11364904.0 \t validation loss: 14241156.0\n",
      "epoch: 700 \t training loss: 10758805.0 \t validation loss: 14284607.0\n",
      "epoch: 710 \t training loss: 10280606.0 \t validation loss: 14116441.0\n",
      "epoch: 720 \t training loss: 11128134.0 \t validation loss: 14232327.0\n",
      "epoch: 730 \t training loss: 17464268.0 \t validation loss: 14250403.0\n",
      "epoch: 740 \t training loss: 10932392.0 \t validation loss: 14084070.0\n",
      "epoch: 750 \t training loss: 9977153.0 \t validation loss: 14175253.0\n",
      "epoch: 760 \t training loss: 10495620.0 \t validation loss: 14083370.0\n",
      "epoch: 770 \t training loss: 9823338.0 \t validation loss: 14087627.0\n",
      "epoch: 780 \t training loss: 10455570.0 \t validation loss: 14039130.0\n",
      "epoch: 790 \t training loss: 14514438.0 \t validation loss: 14010571.0\n",
      "epoch: 800 \t training loss: 9763906.0 \t validation loss: 13912433.0\n",
      "epoch: 810 \t training loss: 9694158.0 \t validation loss: 13974079.0\n",
      "epoch: 820 \t training loss: 10979430.0 \t validation loss: 14123034.0\n",
      "epoch: 830 \t training loss: 9505270.0 \t validation loss: 14042798.0\n",
      "epoch: 840 \t training loss: 10132882.0 \t validation loss: 14016265.0\n",
      "epoch: 850 \t training loss: 9905910.0 \t validation loss: 14107125.0\n",
      "epoch: 860 \t training loss: 9305948.0 \t validation loss: 14132339.0\n",
      "epoch: 870 \t training loss: 9245840.0 \t validation loss: 14020100.0\n",
      "epoch: 880 \t training loss: 9633619.0 \t validation loss: 14100128.0\n",
      "epoch: 890 \t training loss: 9645237.0 \t validation loss: 13940631.0\n",
      "epoch: 900 \t training loss: 9036892.0 \t validation loss: 14082802.0\n",
      "epoch: 910 \t training loss: 8875461.0 \t validation loss: 14169204.0\n",
      "epoch: 920 \t training loss: 9138371.0 \t validation loss: 14270130.0\n",
      "epoch: 930 \t training loss: 9076204.0 \t validation loss: 13944534.0\n",
      "epoch: 940 \t training loss: 8967061.0 \t validation loss: 14265041.0\n",
      "epoch: 950 \t training loss: 9074494.0 \t validation loss: 14255661.0\n",
      "epoch: 960 \t training loss: 9104623.0 \t validation loss: 14074998.0\n",
      "epoch: 970 \t training loss: 8938395.0 \t validation loss: 14362334.0\n",
      "epoch: 980 \t training loss: 12885437.0 \t validation loss: 14362583.0\n",
      "epoch: 990 \t training loss: 9031657.0 \t validation loss: 14227467.0\n",
      "epoch: 1000 \t training loss: 8597543.0 \t validation loss: 14386797.0\n",
      "Model training took 57.011 seconds\n"
     ]
    }
   ],
   "source": [
    "#create vectors for the training and validation loss\n",
    "train_losses = []\n",
    "val_losses = []\n",
    "\n",
    "#start measuring time\n",
    "start_time = time.time()\n",
    "\n",
    "for epoch in range(1, num_epochs+1):\n",
    "    # Model training\n",
    "    train_loss = train_epoch(model, tra_loader, optimizer, criterion, device=device)\n",
    "\n",
    "    # Model validation\n",
    "    val_loss = evaluate_epoch(model, val_loader, criterion, device=device)\n",
    "\n",
    "    train_losses.append(train_loss.detach().numpy())\n",
    "    val_losses.append(val_loss.detach().numpy())\n",
    "\n",
    "    if epoch%10 == 0:\n",
    "        print(\"epoch:\",epoch, \"\\t training loss:\", np.round(train_loss.detach().cpu().numpy(),4),\n",
    "                            \"\\t validation loss:\", np.round(val_loss.detach().cpu().numpy(),4))\n",
    "\n",
    "elapsed_time = time.time() - start_time\n",
    "print(f'Model training took {elapsed_time:.3f} seconds')"
   ],
   "metadata": {
    "collapsed": false
   }
  },
  {
   "cell_type": "code",
   "execution_count": 126,
   "outputs": [
    {
     "data": {
      "text/plain": "<Figure size 640x480 with 1 Axes>",
      "image/png": "[encoded data removed]"
     },
     "metadata": {},
     "output_type": "display_data"
    }
   ],
   "source": [
    "# plot the training and validation loss curves\n",
    "plt.plot(train_losses, label=\"train\")\n",
    "plt.plot(val_losses, label=\"validation\")\n",
    "plt.legend()\n",
    "plt.xlabel(\"Epochs\")\n",
    "plt.ylabel(\"Loss\")\n",
    "plt.show()"
   ],
   "metadata": {
    "collapsed": false
   }
  },
  {
   "cell_type": "code",
   "execution_count": null,
   "outputs": [],
   "source": [],
   "metadata": {
    "collapsed": false
   }
  }
 ],
 "metadata": {
  "kernelspec": {
   "display_name": "Python 3",
   "language": "python",
   "name": "python3"
  },
  "language_info": {
   "codemirror_mode": {
    "name": "ipython",
    "version": 2
   },
   "file_extension": ".py",
   "mimetype": "text/x-python",
   "name": "python",
   "nbconvert_exporter": "python",
   "pygments_lexer": "ipython2",
   "version": "2.7.6"
  }
 },
 "nbformat": 4,
 "nbformat_minor": 0
}
