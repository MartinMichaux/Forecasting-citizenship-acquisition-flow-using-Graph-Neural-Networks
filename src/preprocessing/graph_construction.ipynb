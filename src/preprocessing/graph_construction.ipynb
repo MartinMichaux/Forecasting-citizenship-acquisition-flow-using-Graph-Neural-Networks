{
 "cells": [
  {
   "cell_type": "code",
   "execution_count": 129,
   "metadata": {},
   "outputs": [],
   "source": [
    "from torch_geometric.data import Data\n",
    "import torch\n",
    "import pandas as pd\n",
    "import numpy as np\n",
    "from sklearn.metrics.pairwise import euclidean_distances\n",
    "from tqdm.auto import tqdm\n",
    "import networkx as nx\n",
    "import matplotlib.pyplot as plt"
   ]
  },
  {
   "attachments": {},
   "cell_type": "markdown",
   "metadata": {},
   "source": [
    "# Construct the data"
   ]
  },
  {
   "cell_type": "code",
   "execution_count": 13,
   "metadata": {},
   "outputs": [
    {
     "data": {
      "text/html": [
       "<div>\n",
       "<style scoped>\n",
       "    .dataframe tbody tr th:only-of-type {\n",
       "        vertical-align: middle;\n",
       "    }\n",
       "\n",
       "    .dataframe tbody tr th {\n",
       "        vertical-align: top;\n",
       "    }\n",
       "\n",
       "    .dataframe thead th {\n",
       "        text-align: right;\n",
       "    }\n",
       "</style>\n",
       "<table border=\"1\" class=\"dataframe\">\n",
       "  <thead>\n",
       "    <tr style=\"text-align: right;\">\n",
       "      <th></th>\n",
       "      <th>CO2</th>\n",
       "      <th>COU</th>\n",
       "      <th>Year</th>\n",
       "      <th>Value</th>\n",
       "    </tr>\n",
       "  </thead>\n",
       "  <tbody>\n",
       "    <tr>\n",
       "      <th>0</th>\n",
       "      <td>GBR</td>\n",
       "      <td>BEL</td>\n",
       "      <td>2000</td>\n",
       "      <td>152.0</td>\n",
       "    </tr>\n",
       "    <tr>\n",
       "      <th>1</th>\n",
       "      <td>GBR</td>\n",
       "      <td>BEL</td>\n",
       "      <td>2001</td>\n",
       "      <td>274.0</td>\n",
       "    </tr>\n",
       "    <tr>\n",
       "      <th>2</th>\n",
       "      <td>GBR</td>\n",
       "      <td>BEL</td>\n",
       "      <td>2002</td>\n",
       "      <td>201.0</td>\n",
       "    </tr>\n",
       "    <tr>\n",
       "      <th>3</th>\n",
       "      <td>GBR</td>\n",
       "      <td>BEL</td>\n",
       "      <td>2003</td>\n",
       "      <td>126.0</td>\n",
       "    </tr>\n",
       "    <tr>\n",
       "      <th>4</th>\n",
       "      <td>GBR</td>\n",
       "      <td>BEL</td>\n",
       "      <td>2004</td>\n",
       "      <td>128.0</td>\n",
       "    </tr>\n",
       "    <tr>\n",
       "      <th>...</th>\n",
       "      <td>...</td>\n",
       "      <td>...</td>\n",
       "      <td>...</td>\n",
       "      <td>...</td>\n",
       "    </tr>\n",
       "    <tr>\n",
       "      <th>14737</th>\n",
       "      <td>NZL</td>\n",
       "      <td>LVA</td>\n",
       "      <td>2016</td>\n",
       "      <td>0.0</td>\n",
       "    </tr>\n",
       "    <tr>\n",
       "      <th>14738</th>\n",
       "      <td>NZL</td>\n",
       "      <td>LVA</td>\n",
       "      <td>2017</td>\n",
       "      <td>0.0</td>\n",
       "    </tr>\n",
       "    <tr>\n",
       "      <th>14739</th>\n",
       "      <td>NZL</td>\n",
       "      <td>LVA</td>\n",
       "      <td>2018</td>\n",
       "      <td>0.0</td>\n",
       "    </tr>\n",
       "    <tr>\n",
       "      <th>14740</th>\n",
       "      <td>NZL</td>\n",
       "      <td>LVA</td>\n",
       "      <td>2019</td>\n",
       "      <td>0.0</td>\n",
       "    </tr>\n",
       "    <tr>\n",
       "      <th>14741</th>\n",
       "      <td>NZL</td>\n",
       "      <td>LVA</td>\n",
       "      <td>2020</td>\n",
       "      <td>0.0</td>\n",
       "    </tr>\n",
       "  </tbody>\n",
       "</table>\n",
       "<p>14742 rows × 4 columns</p>\n",
       "</div>"
      ],
      "text/plain": [
       "       CO2  COU  Year  Value\n",
       "0      GBR  BEL  2000  152.0\n",
       "1      GBR  BEL  2001  274.0\n",
       "2      GBR  BEL  2002  201.0\n",
       "3      GBR  BEL  2003  126.0\n",
       "4      GBR  BEL  2004  128.0\n",
       "...    ...  ...   ...    ...\n",
       "14737  NZL  LVA  2016    0.0\n",
       "14738  NZL  LVA  2017    0.0\n",
       "14739  NZL  LVA  2018    0.0\n",
       "14740  NZL  LVA  2019    0.0\n",
       "14741  NZL  LVA  2020    0.0\n",
       "\n",
       "[14742 rows x 4 columns]"
      ]
     },
     "execution_count": 13,
     "metadata": {},
     "output_type": "execute_result"
    }
   ],
   "source": [
    "acquisition_data = pd.read_csv(r'C:\\Users\\eevmenova\\Documents\\Courses\\Machine Learning for Graph Data\\Final project\\ML-for-Graph-Data-Project\\data\\labels\\OECD_acquisition_data_interpolated.csv')\n",
    "acquisition_data.drop('Unnamed: 0', axis=1, inplace=True)\n",
    "acquisition_data"
   ]
  },
  {
   "cell_type": "code",
   "execution_count": 14,
   "metadata": {},
   "outputs": [
    {
     "data": {
      "text/html": [
       "<div>\n",
       "<style scoped>\n",
       "    .dataframe tbody tr th:only-of-type {\n",
       "        vertical-align: middle;\n",
       "    }\n",
       "\n",
       "    .dataframe tbody tr th {\n",
       "        vertical-align: top;\n",
       "    }\n",
       "\n",
       "    .dataframe thead th {\n",
       "        text-align: right;\n",
       "    }\n",
       "</style>\n",
       "<table border=\"1\" class=\"dataframe\">\n",
       "  <thead>\n",
       "    <tr style=\"text-align: right;\">\n",
       "      <th></th>\n",
       "      <th>Country</th>\n",
       "      <th>Year</th>\n",
       "      <th>Carbon Emissions</th>\n",
       "      <th>Education Expenditure</th>\n",
       "      <th>Foreign Direct Investment (FDI) Inflows</th>\n",
       "      <th>GDP</th>\n",
       "      <th>Health Expenditure</th>\n",
       "      <th>Inflation Rate</th>\n",
       "      <th>Internet Penetration</th>\n",
       "      <th>Life Expectancy</th>\n",
       "      <th>Renewable Energy Production</th>\n",
       "      <th>Unemployment Rate</th>\n",
       "    </tr>\n",
       "  </thead>\n",
       "  <tbody>\n",
       "    <tr>\n",
       "      <th>0</th>\n",
       "      <td>AUS</td>\n",
       "      <td>2000</td>\n",
       "      <td>339446.6</td>\n",
       "      <td>4.887310</td>\n",
       "      <td>1.489298e+10</td>\n",
       "      <td>4.158513e+11</td>\n",
       "      <td>7.599617</td>\n",
       "      <td>4.457435</td>\n",
       "      <td>46.756116</td>\n",
       "      <td>79.234146</td>\n",
       "      <td>8.42</td>\n",
       "      <td>6.28</td>\n",
       "    </tr>\n",
       "    <tr>\n",
       "      <th>1</th>\n",
       "      <td>AUS</td>\n",
       "      <td>2001</td>\n",
       "      <td>345645.0</td>\n",
       "      <td>4.889552</td>\n",
       "      <td>1.071713e+10</td>\n",
       "      <td>3.793582e+11</td>\n",
       "      <td>7.682723</td>\n",
       "      <td>4.407135</td>\n",
       "      <td>52.689266</td>\n",
       "      <td>79.634146</td>\n",
       "      <td>8.37</td>\n",
       "      <td>6.74</td>\n",
       "    </tr>\n",
       "    <tr>\n",
       "      <th>2</th>\n",
       "      <td>AUS</td>\n",
       "      <td>2002</td>\n",
       "      <td>353371.3</td>\n",
       "      <td>4.891794</td>\n",
       "      <td>1.465632e+10</td>\n",
       "      <td>3.955808e+11</td>\n",
       "      <td>7.878076</td>\n",
       "      <td>2.981575</td>\n",
       "      <td>55.266950</td>\n",
       "      <td>79.936585</td>\n",
       "      <td>8.74</td>\n",
       "      <td>6.37</td>\n",
       "    </tr>\n",
       "    <tr>\n",
       "      <th>3</th>\n",
       "      <td>AUS</td>\n",
       "      <td>2003</td>\n",
       "      <td>352581.1</td>\n",
       "      <td>4.894036</td>\n",
       "      <td>8.985246e+09</td>\n",
       "      <td>4.674980e+11</td>\n",
       "      <td>7.882926</td>\n",
       "      <td>2.732596</td>\n",
       "      <td>57.844633</td>\n",
       "      <td>80.239024</td>\n",
       "      <td>7.15</td>\n",
       "      <td>5.93</td>\n",
       "    </tr>\n",
       "    <tr>\n",
       "      <th>4</th>\n",
       "      <td>AUS</td>\n",
       "      <td>2004</td>\n",
       "      <td>365808.0</td>\n",
       "      <td>4.896278</td>\n",
       "      <td>4.290767e+10</td>\n",
       "      <td>6.143264e+11</td>\n",
       "      <td>8.090034</td>\n",
       "      <td>2.343255</td>\n",
       "      <td>60.422317</td>\n",
       "      <td>80.490244</td>\n",
       "      <td>6.68</td>\n",
       "      <td>5.39</td>\n",
       "    </tr>\n",
       "    <tr>\n",
       "      <th>...</th>\n",
       "      <td>...</td>\n",
       "      <td>...</td>\n",
       "      <td>...</td>\n",
       "      <td>...</td>\n",
       "      <td>...</td>\n",
       "      <td>...</td>\n",
       "      <td>...</td>\n",
       "      <td>...</td>\n",
       "      <td>...</td>\n",
       "      <td>...</td>\n",
       "      <td>...</td>\n",
       "      <td>...</td>\n",
       "    </tr>\n",
       "    <tr>\n",
       "      <th>589</th>\n",
       "      <td>USA</td>\n",
       "      <td>2017</td>\n",
       "      <td>4819370.0</td>\n",
       "      <td>5.109220</td>\n",
       "      <td>3.808230e+11</td>\n",
       "      <td>1.947734e+13</td>\n",
       "      <td>16.767937</td>\n",
       "      <td>2.130110</td>\n",
       "      <td>87.274889</td>\n",
       "      <td>78.539024</td>\n",
       "      <td>9.92</td>\n",
       "      <td>4.36</td>\n",
       "    </tr>\n",
       "    <tr>\n",
       "      <th>590</th>\n",
       "      <td>USA</td>\n",
       "      <td>2018</td>\n",
       "      <td>4975307.0</td>\n",
       "      <td>4.912330</td>\n",
       "      <td>2.147150e+11</td>\n",
       "      <td>2.053306e+13</td>\n",
       "      <td>16.640944</td>\n",
       "      <td>2.442583</td>\n",
       "      <td>88.498903</td>\n",
       "      <td>78.639024</td>\n",
       "      <td>10.12</td>\n",
       "      <td>3.90</td>\n",
       "    </tr>\n",
       "    <tr>\n",
       "      <th>591</th>\n",
       "      <td>USA</td>\n",
       "      <td>2019</td>\n",
       "      <td>4817719.0</td>\n",
       "      <td>4.988710</td>\n",
       "      <td>3.147440e+11</td>\n",
       "      <td>2.138098e+13</td>\n",
       "      <td>16.676474</td>\n",
       "      <td>1.812210</td>\n",
       "      <td>89.430285</td>\n",
       "      <td>78.787805</td>\n",
       "      <td>10.42</td>\n",
       "      <td>3.67</td>\n",
       "    </tr>\n",
       "    <tr>\n",
       "      <th>592</th>\n",
       "      <td>USA</td>\n",
       "      <td>2020</td>\n",
       "      <td>4817719.0</td>\n",
       "      <td>6.050000</td>\n",
       "      <td>1.489120e+11</td>\n",
       "      <td>2.106047e+13</td>\n",
       "      <td>18.815826</td>\n",
       "      <td>1.233584</td>\n",
       "      <td>90.620470</td>\n",
       "      <td>76.980488</td>\n",
       "      <td>10.42</td>\n",
       "      <td>8.05</td>\n",
       "    </tr>\n",
       "    <tr>\n",
       "      <th>593</th>\n",
       "      <td>USA</td>\n",
       "      <td>2021</td>\n",
       "      <td>4817719.0</td>\n",
       "      <td>6.050000</td>\n",
       "      <td>4.483240e+11</td>\n",
       "      <td>2.331508e+13</td>\n",
       "      <td>18.815826</td>\n",
       "      <td>4.697859</td>\n",
       "      <td>91.753208</td>\n",
       "      <td>76.329268</td>\n",
       "      <td>10.42</td>\n",
       "      <td>5.35</td>\n",
       "    </tr>\n",
       "  </tbody>\n",
       "</table>\n",
       "<p>594 rows × 12 columns</p>\n",
       "</div>"
      ],
      "text/plain": [
       "    Country  Year  Carbon Emissions  Education Expenditure  \\\n",
       "0       AUS  2000          339446.6               4.887310   \n",
       "1       AUS  2001          345645.0               4.889552   \n",
       "2       AUS  2002          353371.3               4.891794   \n",
       "3       AUS  2003          352581.1               4.894036   \n",
       "4       AUS  2004          365808.0               4.896278   \n",
       "..      ...   ...               ...                    ...   \n",
       "589     USA  2017         4819370.0               5.109220   \n",
       "590     USA  2018         4975307.0               4.912330   \n",
       "591     USA  2019         4817719.0               4.988710   \n",
       "592     USA  2020         4817719.0               6.050000   \n",
       "593     USA  2021         4817719.0               6.050000   \n",
       "\n",
       "     Foreign Direct Investment (FDI) Inflows           GDP  \\\n",
       "0                               1.489298e+10  4.158513e+11   \n",
       "1                               1.071713e+10  3.793582e+11   \n",
       "2                               1.465632e+10  3.955808e+11   \n",
       "3                               8.985246e+09  4.674980e+11   \n",
       "4                               4.290767e+10  6.143264e+11   \n",
       "..                                       ...           ...   \n",
       "589                             3.808230e+11  1.947734e+13   \n",
       "590                             2.147150e+11  2.053306e+13   \n",
       "591                             3.147440e+11  2.138098e+13   \n",
       "592                             1.489120e+11  2.106047e+13   \n",
       "593                             4.483240e+11  2.331508e+13   \n",
       "\n",
       "     Health Expenditure  Inflation Rate  Internet Penetration  \\\n",
       "0              7.599617        4.457435             46.756116   \n",
       "1              7.682723        4.407135             52.689266   \n",
       "2              7.878076        2.981575             55.266950   \n",
       "3              7.882926        2.732596             57.844633   \n",
       "4              8.090034        2.343255             60.422317   \n",
       "..                  ...             ...                   ...   \n",
       "589           16.767937        2.130110             87.274889   \n",
       "590           16.640944        2.442583             88.498903   \n",
       "591           16.676474        1.812210             89.430285   \n",
       "592           18.815826        1.233584             90.620470   \n",
       "593           18.815826        4.697859             91.753208   \n",
       "\n",
       "     Life Expectancy  Renewable Energy Production  Unemployment Rate  \n",
       "0          79.234146                         8.42               6.28  \n",
       "1          79.634146                         8.37               6.74  \n",
       "2          79.936585                         8.74               6.37  \n",
       "3          80.239024                         7.15               5.93  \n",
       "4          80.490244                         6.68               5.39  \n",
       "..               ...                          ...                ...  \n",
       "589        78.539024                         9.92               4.36  \n",
       "590        78.639024                        10.12               3.90  \n",
       "591        78.787805                        10.42               3.67  \n",
       "592        76.980488                        10.42               8.05  \n",
       "593        76.329268                        10.42               5.35  \n",
       "\n",
       "[594 rows x 12 columns]"
      ]
     },
     "execution_count": 14,
     "metadata": {},
     "output_type": "execute_result"
    }
   ],
   "source": [
    "features_data = pd.read_csv(r'C:\\Users\\eevmenova\\Documents\\Courses\\Machine Learning for Graph Data\\Final project\\ML-for-Graph-Data-Project\\data\\features\\features_interpolated.csv')\n",
    "features_data.drop('Unnamed: 0', axis=1, inplace=True)\n",
    "features_data"
   ]
  },
  {
   "cell_type": "code",
   "execution_count": 56,
   "metadata": {},
   "outputs": [],
   "source": [
    "years = range(2000, 2022)"
   ]
  },
  {
   "cell_type": "code",
   "execution_count": 222,
   "metadata": {},
   "outputs": [],
   "source": [
    "feature_names = ['Carbon Emissions',\n",
    "                'Education Expenditure',\n",
    "                'Foreign Direct Investment (FDI) Inflows',\n",
    "                'GDP',\n",
    "                'Health Expenditure',\n",
    "                'Inflation Rate',\n",
    "                'Internet Penetration',\n",
    "                'Life Expectancy',\n",
    "                'Renewable Energy Production',\n",
    "                'Unemployment Rate']\n",
    "\n",
    "year_graph = {}\n",
    "for year in years:\n",
    "    #  Take one year\n",
    "    year_data = features_data[features_data['Year'] == year]\n",
    "\n",
    "    #  Do normalization for features of the fixed year\n",
    "    normalized_year_data = (year_data[feature_names] - year_data[feature_names].min()) / (year_data[feature_names].max() - year_data[feature_names].min())\n",
    "    normalized_year_data['Country'] = year_data['Country']\n",
    "\n",
    "    #  Stack the features of each pair of countries\n",
    "    crossed_data = pd.merge(normalized_year_data, normalized_year_data, how='cross', suffixes=['_first', '_second'])\n",
    "    crossed_data = crossed_data[crossed_data['Country_first'] != crossed_data['Country_second']]\n",
    "    first_country_list = crossed_data['Country_first']\n",
    "    second_country_list = crossed_data['Country_second']\n",
    "    crossed_data['countries_pair'] = [(country1, country2) for country1, country2 in zip(first_country_list, second_country_list)]\n",
    "    crossed_data.drop(['Country_first', 'Country_second'], axis=1, inplace=True)\n",
    "\n",
    "    #  Calculate euclidean distance between pairs of pairs of countries\n",
    "    distances = euclidean_distances(crossed_data.drop('countries_pair', axis=1))\n",
    "    distances = distances / distances.max()  # normalize\n",
    "\n",
    "    #  Calculate similarity between pairs of pairs of countries\n",
    "    similarities = 1 - distances\n",
    "    np.fill_diagonal(similarities, np.nan)\n",
    "\n",
    "    #  Convert to matrix\n",
    "    similarities_df = pd.DataFrame(similarities, index=crossed_data['countries_pair'].values, columns=crossed_data['countries_pair'].values)\n",
    "    #  (or to edgelist)\n",
    "    # similarities_df = similarities_df.stack().reset_index().rename({'level_0': 'country_pair_1', 'level_1': 'country_pair_2', 0: 'similarity_score'}, axis=1)\n",
    "\n",
    "    year_graph[year] = similarities_df"
   ]
  },
  {
   "cell_type": "code",
   "execution_count": 81,
   "metadata": {},
   "outputs": [
    {
     "data": {
      "text/plain": [
       "702"
      ]
     },
     "execution_count": 81,
     "metadata": {},
     "output_type": "execute_result"
    }
   ],
   "source": [
    "27 * 27 - 27"
   ]
  },
  {
   "cell_type": "code",
   "execution_count": 83,
   "metadata": {},
   "outputs": [
    {
     "data": {
      "text/plain": [
       "492102"
      ]
     },
     "execution_count": 83,
     "metadata": {},
     "output_type": "execute_result"
    }
   ],
   "source": [
    "702 * 702 - 702"
   ]
  },
  {
   "cell_type": "code",
   "execution_count": 66,
   "metadata": {},
   "outputs": [
    {
     "data": {
      "text/plain": [
       "(492102, 3)"
      ]
     },
     "execution_count": 66,
     "metadata": {},
     "output_type": "execute_result"
    }
   ],
   "source": [
    "year_graph[2000].shape"
   ]
  },
  {
   "cell_type": "code",
   "execution_count": 213,
   "metadata": {},
   "outputs": [],
   "source": [
    "def brute_force_optimal_threshold(year_graph, similarity=True):\n",
    "    x = np.linspace(0, 1, 21)\n",
    "    sparsity_mean = []\n",
    "    sparsity_std = []\n",
    "    connected_all = []\n",
    "\n",
    "    for threshold in tqdm(x, leave=True):\n",
    "        sparsity = []\n",
    "        connected = []\n",
    "        for year in years:\n",
    "            #  Filter the year and the similarity/dissimilarity threshold\n",
    "            matrix = year_graph[year]\n",
    "            if similarity:\n",
    "                filtered_matrix = matrix[matrix >= threshold]\n",
    "            else:\n",
    "                filtered_matrix = matrix[matrix <= threshold]\n",
    "\n",
    "            #  Calculate sparsity\n",
    "            number_of_edges = filtered_matrix.notna().sum().sum()\n",
    "            sparsity.append(number_of_edges / 492102)\n",
    "\n",
    "            #  Check connectivity\n",
    "            if number_of_edges == 0:\n",
    "                connected.append(0)\n",
    "            else:\n",
    "                # graph = nx.from_pandas_edgelist(filtered_edgelist, 'country_pair_1', 'country_pair_2', 'similarity_score')\n",
    "                graph = nx.from_pandas_adjacency(filtered_matrix.replace(np.nan, 0), create_using=nx.DiGraph())\n",
    "                connected.append(nx.is_weakly_connected(graph))\n",
    "        \n",
    "        #  Update global statistics\n",
    "        sparsity_mean.append(np.mean(sparsity))\n",
    "        sparsity_std.append(np.std(sparsity))\n",
    "        connected_all.append(np.prod(connected))\n",
    "    return x, sparsity_mean, sparsity_std, connected_all\n",
    "\n",
    "\n",
    "def plot_sprsity_vs_threshold(x, sparsity_mean, sparsity_std, connected_all, similarity=True):\n",
    "    plt.errorbar(x, sparsity_mean, yerr=sparsity_std, fmt='', ls='none', color='grey')\n",
    "    plt.scatter(x, sparsity_mean, c=['#1a05' if x else '#ff7f50' for x in connected_all])\n",
    "\n",
    "    plt.xlabel('Similarity threshold')\n",
    "    plt.ylabel('Mean sparsity')\n",
    "    plt.grid(visible=True)\n",
    "    if similarity:\n",
    "        plt.title('Similarity graph based on euclidean distance')\n",
    "        x_opt = x[connected_all.index(0)-1]\n",
    "        sparsiy_opt = sparsity_mean[connected_all.index(0)-1]\n",
    "    else:\n",
    "        plt.title('Dissimilarity graph based on euclidean distance')\n",
    "        x_opt = x[connected_all.index(1)]\n",
    "        sparsiy_opt = sparsity_mean[connected_all.index(1)]\n",
    "\n",
    "    plt.scatter(x_opt, sparsiy_opt, s=70, c='red')\n",
    "    plt.annotate(f'({x_opt:.2f}, {sparsiy_opt:.2f})', \n",
    "                (x_opt, sparsiy_opt),\n",
    "                xycoords='data',\n",
    "                xytext=(x_opt - 0.15, sparsiy_opt + 0.05))"
   ]
  },
  {
   "attachments": {},
   "cell_type": "markdown",
   "metadata": {},
   "source": [
    "### Similarity graph"
   ]
  },
  {
   "cell_type": "code",
   "execution_count": 214,
   "metadata": {},
   "outputs": [
    {
     "data": {
      "application/vnd.jupyter.widget-view+json": {
       "model_id": "c898181fd00e4efaaa999d73550eb856",
       "version_major": 2,
       "version_minor": 0
      },
      "text/plain": [
       "  0%|          | 0/21 [00:00<?, ?it/s]"
      ]
     },
     "metadata": {},
     "output_type": "display_data"
    },
    {
     "data": {
      "image/png": "[encoded data removed]",
      "text/plain": [
       "<Figure size 640x480 with 1 Axes>"
      ]
     },
     "metadata": {},
     "output_type": "display_data"
    }
   ],
   "source": [
    "x, sparsity_mean, sparsity_std, connected_all = brute_force_optimal_threshold(year_graph, similarity=True)\n",
    "plot_sprsity_vs_threshold(x, sparsity_mean, sparsity_std, connected_all)"
   ]
  },
  {
   "cell_type": "code",
   "execution_count": 226,
   "metadata": {},
   "outputs": [
    {
     "name": "stdout",
     "output_type": "stream",
     "text": [
      "Year 2000 is done\n",
      "Year 2001 is done\n",
      "Year 2002 is done\n",
      "Year 2003 is done\n",
      "Year 2004 is done\n",
      "Year 2005 is done\n",
      "Year 2006 is done\n",
      "Year 2007 is done\n",
      "Year 2008 is done\n",
      "Year 2009 is done\n",
      "Year 2010 is done\n",
      "Year 2011 is done\n",
      "Year 2012 is done\n",
      "Year 2013 is done\n",
      "Year 2014 is done\n",
      "Year 2015 is done\n",
      "Year 2016 is done\n",
      "Year 2017 is done\n",
      "Year 2018 is done\n",
      "Year 2019 is done\n",
      "Year 2020 is done\n",
      "Year 2021 is done\n"
     ]
    }
   ],
   "source": [
    "for year in years:\n",
    "    matrix = year_graph[year]\n",
    "    filtered_matrix = matrix[matrix >= 0.45]\n",
    "    similarities_df = filtered_matrix.stack().reset_index().rename({'level_0': 'country_pair_1', 'level_1': 'country_pair_2', 0: 'similarity_score'}, axis=1)\n",
    "    similarities_df.to_csv(fr'C:\\Users\\eevmenova\\Documents\\Courses\\Machine Learning for Graph Data\\Final project\\euclidean_similarity\\graph_{year}.txt',\n",
    "                           index=None,\n",
    "                           header=None)\n",
    "    print(f'Year {year} is done')"
   ]
  },
  {
   "attachments": {},
   "cell_type": "markdown",
   "metadata": {},
   "source": [
    "### Dissimilarity graph"
   ]
  },
  {
   "cell_type": "code",
   "execution_count": 227,
   "metadata": {},
   "outputs": [
    {
     "data": {
      "application/vnd.jupyter.widget-view+json": {
       "model_id": "bde528783c374da9bf40bbe24b7eca53",
       "version_major": 2,
       "version_minor": 0
      },
      "text/plain": [
       "  0%|          | 0/21 [00:00<?, ?it/s]"
      ]
     },
     "metadata": {},
     "output_type": "display_data"
    },
    {
     "data": {
      "image/png": "[encoded data removed]",
      "text/plain": [
       "<Figure size 640x480 with 1 Axes>"
      ]
     },
     "metadata": {},
     "output_type": "display_data"
    }
   ],
   "source": [
    "x, sparsity_mean, sparsity_std, connected_all = brute_force_optimal_threshold(year_graph, similarity=False)\n",
    "plot_sprsity_vs_threshold(x, sparsity_mean, sparsity_std, connected_all,similarity=False)"
   ]
  },
  {
   "cell_type": "code",
   "execution_count": 229,
   "metadata": {},
   "outputs": [
    {
     "name": "stdout",
     "output_type": "stream",
     "text": [
      "Year 2000 is done\n",
      "Year 2001 is done\n",
      "Year 2002 is done\n",
      "Year 2003 is done\n",
      "Year 2004 is done\n",
      "Year 2005 is done\n",
      "Year 2006 is done\n",
      "Year 2007 is done\n",
      "Year 2008 is done\n",
      "Year 2009 is done\n",
      "Year 2010 is done\n",
      "Year 2011 is done\n",
      "Year 2012 is done\n",
      "Year 2013 is done\n",
      "Year 2014 is done\n",
      "Year 2015 is done\n",
      "Year 2016 is done\n",
      "Year 2017 is done\n",
      "Year 2018 is done\n",
      "Year 2019 is done\n",
      "Year 2020 is done\n",
      "Year 2021 is done\n"
     ]
    }
   ],
   "source": [
    "for year in years:\n",
    "    matrix = year_graph[year]\n",
    "    filtered_matrix = matrix[matrix <= 0.4]\n",
    "    similarities_df = filtered_matrix.stack().reset_index().rename({'level_0': 'country_pair_1', 'level_1': 'country_pair_2', 0: 'similarity_score'}, axis=1)\n",
    "    similarities_df.to_csv(fr'C:\\Users\\eevmenova\\Documents\\Courses\\Machine Learning for Graph Data\\Final project\\euclidean_dissimilarity\\graph_{year}.txt',\n",
    "                           index=None,\n",
    "                           header=None)\n",
    "    print(f'Year {year} is done')"
   ]
  },
  {
   "attachments": {},
   "cell_type": "markdown",
   "metadata": {},
   "source": [
    "# All imports"
   ]
  },
  {
   "cell_type": "code",
   "execution_count": null,
   "metadata": {},
   "outputs": [],
   "source": [
    "import pandas as pd\n",
    "import matplotlib.pyplot as plt\n",
    "import matplotlib.ticker as mticker\n",
    "import seaborn as sns"
   ]
  },
  {
   "cell_type": "code",
   "execution_count": null,
   "metadata": {},
   "outputs": [],
   "source": [
    "for year in years:\n",
    "    edgelist = year_edgelist[year]\n",
    "    filtered_edgelist = edgelist[edgelist['similarity_score'] < 0.45]\n",
    "    filtered_edgelist.to_csv(fr'C:\\Users\\eevmenova\\Documents\\Courses\\Machine Learning for Graph Data\\Final project\\euclidean_dissimilarity\\graph_{year}.txt')"
   ]
  },
  {
   "attachments": {},
   "cell_type": "markdown",
   "metadata": {},
   "source": [
    "# Upload all the data"
   ]
  },
  {
   "cell_type": "code",
   "execution_count": null,
   "metadata": {},
   "outputs": [],
   "source": [
    "edgelist, edgelist_tensor = {}, {}\n",
    "for year in range(2000, 2022):\n",
    "    #  Read the graph edgelists for each year\n",
    "    edgelist[year] = pd.read_csv(f'C:\\Users\\eevmenova\\Documents\\Courses\\Machine Learning for Graph Data\\Final project\\euclidean_similarity\\graph_{year}.txt.csv')\n",
    "    edgelist_tensor[year] = torch.tensor(edgelist[year].values)\n",
    "    \n",
    "    #  Read features\n",
    "    x = \n",
    "# edge_index = "
   ]
  },
  {
   "cell_type": "code",
   "execution_count": null,
   "metadata": {},
   "outputs": [],
   "source": [
    "data = Data(x=x, edge_index=edge_index, ...)"
   ]
  }
 ],
 "metadata": {
  "kernelspec": {
   "display_name": "Python 3",
   "language": "python",
   "name": "python3"
  },
  "language_info": {
   "codemirror_mode": {
    "name": "ipython",
    "version": 3
   },
   "file_extension": ".py",
   "mimetype": "text/x-python",
   "name": "python",
   "nbconvert_exporter": "python",
   "pygments_lexer": "ipython3",
   "version": "3.11.3"
  },
  "orig_nbformat": 4
 },
 "nbformat": 4,
 "nbformat_minor": 2
}
