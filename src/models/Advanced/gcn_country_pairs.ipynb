{
 "cells": [
  {
   "cell_type": "code",
   "source": [
    "# this cell is for Google Colab execution\n",
    "import torch\n",
    "\n",
    "def format_pytorch_version(version):\n",
    "  return version.split('+')[0]\n",
    "\n",
    "TORCH_version = torch.__version__\n",
    "TORCH = format_pytorch_version(TORCH_version)\n",
    "\n",
    "def format_cuda_version(version):\n",
    "  return 'cu' + version.replace('.', '')\n",
    "\n",
    "CUDA_version = torch.version.cuda\n",
    "CUDA = format_cuda_version(CUDA_version)\n",
    "\n",
    "!pip install torch-scatter     -f https://pytorch-geometric.com/whl/torch-{TORCH}+{CUDA}.html\n",
    "!pip install torch-sparse      -f https://pytorch-geometric.com/whl/torch-{TORCH}+{CUDA}.html\n",
    "!pip install torch-cluster     -f https://pytorch-geometric.com/whl/torch-{TORCH}+{CUDA}.html\n",
    "!pip install torch-spline-conv -f https://pytorch-geometric.com/whl/torch-{TORCH}+{CUDA}.html\n",
    "!pip install torch-geometric"
   ],
   "metadata": {
    "colab": {
     "base_uri": "https://localhost:8080/"
    },
    "id": "VmHX9skm_WkN",
    "executionInfo": {
     "status": "ok",
     "timestamp": 1687973179932,
     "user_tz": -120,
     "elapsed": 53035,
     "user": {
      "displayName": "Csanád Bakos",
      "userId": "16738190730318615870"
     }
    },
    "outputId": "0243d108-7630-4172-ef18-a6481b653426"
   },
   "execution_count": 1,
   "outputs": [
    {
     "output_type": "stream",
     "name": "stdout",
     "text": [
      "Looking in links: https://pytorch-geometric.com/whl/torch-2.0.1+cu118.html\n",
      "Collecting torch-scatter\n",
      "  Downloading https://data.pyg.org/whl/torch-2.0.0%2Bcu118/torch_scatter-2.1.1%2Bpt20cu118-cp310-cp310-linux_x86_64.whl (10.2 MB)\n",
      "\u001B[2K     \u001B[90m━━━━━━━━━━━━━━━━━━━━━━━━━━━━━━━━━━━━━━━━\u001B[0m \u001B[32m10.2/10.2 MB\u001B[0m \u001B[31m49.2 MB/s\u001B[0m eta \u001B[36m0:00:00\u001B[0m\n",
      "\u001B[?25hInstalling collected packages: torch-scatter\n",
      "Successfully installed torch-scatter-2.1.1+pt20cu118\n",
      "Looking in links: https://pytorch-geometric.com/whl/torch-2.0.1+cu118.html\n",
      "Collecting torch-sparse\n",
      "  Downloading https://data.pyg.org/whl/torch-2.0.0%2Bcu118/torch_sparse-0.6.17%2Bpt20cu118-cp310-cp310-linux_x86_64.whl (4.8 MB)\n",
      "\u001B[2K     \u001B[90m━━━━━━━━━━━━━━━━━━━━━━━━━━━━━━━━━━━━━━━━\u001B[0m \u001B[32m4.8/4.8 MB\u001B[0m \u001B[31m11.8 MB/s\u001B[0m eta \u001B[36m0:00:00\u001B[0m\n",
      "\u001B[?25hRequirement already satisfied: scipy in /usr/local/lib/python3.10/dist-packages (from torch-sparse) (1.10.1)\n",
      "Requirement already satisfied: numpy<1.27.0,>=1.19.5 in /usr/local/lib/python3.10/dist-packages (from scipy->torch-sparse) (1.22.4)\n",
      "Installing collected packages: torch-sparse\n",
      "Successfully installed torch-sparse-0.6.17+pt20cu118\n",
      "Looking in links: https://pytorch-geometric.com/whl/torch-2.0.1+cu118.html\n",
      "Collecting torch-cluster\n",
      "  Downloading https://data.pyg.org/whl/torch-2.0.0%2Bcu118/torch_cluster-1.6.1%2Bpt20cu118-cp310-cp310-linux_x86_64.whl (3.3 MB)\n",
      "\u001B[2K     \u001B[90m━━━━━━━━━━━━━━━━━━━━━━━━━━━━━━━━━━━━━━━━\u001B[0m \u001B[32m3.3/3.3 MB\u001B[0m \u001B[31m32.9 MB/s\u001B[0m eta \u001B[36m0:00:00\u001B[0m\n",
      "\u001B[?25hRequirement already satisfied: scipy in /usr/local/lib/python3.10/dist-packages (from torch-cluster) (1.10.1)\n",
      "Requirement already satisfied: numpy<1.27.0,>=1.19.5 in /usr/local/lib/python3.10/dist-packages (from scipy->torch-cluster) (1.22.4)\n",
      "Installing collected packages: torch-cluster\n",
      "Successfully installed torch-cluster-1.6.1+pt20cu118\n",
      "Looking in links: https://pytorch-geometric.com/whl/torch-2.0.1+cu118.html\n",
      "Collecting torch-spline-conv\n",
      "  Downloading https://data.pyg.org/whl/torch-2.0.0%2Bcu118/torch_spline_conv-1.2.2%2Bpt20cu118-cp310-cp310-linux_x86_64.whl (884 kB)\n",
      "\u001B[2K     \u001B[90m━━━━━━━━━━━━━━━━━━━━━━━━━━━━━━━━━━━━━━\u001B[0m \u001B[32m884.9/884.9 kB\u001B[0m \u001B[31m13.2 MB/s\u001B[0m eta \u001B[36m0:00:00\u001B[0m\n",
      "\u001B[?25hInstalling collected packages: torch-spline-conv\n",
      "Successfully installed torch-spline-conv-1.2.2+pt20cu118\n",
      "Collecting torch-geometric\n",
      "  Downloading torch_geometric-2.3.1.tar.gz (661 kB)\n",
      "\u001B[2K     \u001B[90m━━━━━━━━━━━━━━━━━━━━━━━━━━━━━━━━━━━━━━\u001B[0m \u001B[32m661.6/661.6 kB\u001B[0m \u001B[31m11.9 MB/s\u001B[0m eta \u001B[36m0:00:00\u001B[0m\n",
      "\u001B[?25h  Installing build dependencies ... \u001B[?25l\u001B[?25hdone\n",
      "  Getting requirements to build wheel ... \u001B[?25l\u001B[?25hdone\n",
      "  Preparing metadata (pyproject.toml) ... \u001B[?25l\u001B[?25hdone\n",
      "Requirement already satisfied: tqdm in /usr/local/lib/python3.10/dist-packages (from torch-geometric) (4.65.0)\n",
      "Requirement already satisfied: numpy in /usr/local/lib/python3.10/dist-packages (from torch-geometric) (1.22.4)\n",
      "Requirement already satisfied: scipy in /usr/local/lib/python3.10/dist-packages (from torch-geometric) (1.10.1)\n",
      "Requirement already satisfied: jinja2 in /usr/local/lib/python3.10/dist-packages (from torch-geometric) (3.1.2)\n",
      "Requirement already satisfied: requests in /usr/local/lib/python3.10/dist-packages (from torch-geometric) (2.27.1)\n",
      "Requirement already satisfied: pyparsing in /usr/local/lib/python3.10/dist-packages (from torch-geometric) (3.1.0)\n",
      "Requirement already satisfied: scikit-learn in /usr/local/lib/python3.10/dist-packages (from torch-geometric) (1.2.2)\n",
      "Requirement already satisfied: psutil>=5.8.0 in /usr/local/lib/python3.10/dist-packages (from torch-geometric) (5.9.5)\n",
      "Requirement already satisfied: MarkupSafe>=2.0 in /usr/local/lib/python3.10/dist-packages (from jinja2->torch-geometric) (2.1.3)\n",
      "Requirement already satisfied: urllib3<1.27,>=1.21.1 in /usr/local/lib/python3.10/dist-packages (from requests->torch-geometric) (1.26.16)\n",
      "Requirement already satisfied: certifi>=2017.4.17 in /usr/local/lib/python3.10/dist-packages (from requests->torch-geometric) (2023.5.7)\n",
      "Requirement already satisfied: charset-normalizer~=2.0.0 in /usr/local/lib/python3.10/dist-packages (from requests->torch-geometric) (2.0.12)\n",
      "Requirement already satisfied: idna<4,>=2.5 in /usr/local/lib/python3.10/dist-packages (from requests->torch-geometric) (3.4)\n",
      "Requirement already satisfied: joblib>=1.1.1 in /usr/local/lib/python3.10/dist-packages (from scikit-learn->torch-geometric) (1.2.0)\n",
      "Requirement already satisfied: threadpoolctl>=2.0.0 in /usr/local/lib/python3.10/dist-packages (from scikit-learn->torch-geometric) (3.1.0)\n",
      "Building wheels for collected packages: torch-geometric\n",
      "  Building wheel for torch-geometric (pyproject.toml) ... \u001B[?25l\u001B[?25hdone\n",
      "  Created wheel for torch-geometric: filename=torch_geometric-2.3.1-py3-none-any.whl size=910459 sha256=eaadc861df51751e99facd6a9e2a14c1f817f654f48a7470a35778f2d61cf9f7\n",
      "  Stored in directory: /root/.cache/pip/wheels/ac/dc/30/e2874821ff308ee67dcd7a66dbde912411e19e35a1addda028\n",
      "Successfully built torch-geometric\n",
      "Installing collected packages: torch-geometric\n",
      "Successfully installed torch-geometric-2.3.1\n"
     ]
    }
   ]
  },
  {
   "cell_type": "code",
   "execution_count": 1,
   "metadata": {
    "collapsed": true,
    "id": "E8pqHUIP-uYO",
    "executionInfo": {
     "status": "ok",
     "timestamp": 1687973208424,
     "user_tz": -120,
     "elapsed": 2,
     "user": {
      "displayName": "Csanád Bakos",
      "userId": "16738190730318615870"
     }
    }
   },
   "outputs": [],
   "source": [
    "import matplotlib.pyplot as plt\n",
    "import pandas as pd\n",
    "import numpy as np"
   ]
  },
  {
   "cell_type": "code",
   "execution_count": 2,
   "outputs": [],
   "source": [
    "# prepare data:\n",
    "# each node is pair of countries, order matters so AB and BA are two different nodes\n",
    "# edges are based on similarity\n",
    "# node features are the concatenated features of the country pairs (in the correct order)\n",
    "# build such a graph for each year separately\n",
    "feature_data = pd.read_csv('../../data/features/features_interpolated.csv', encoding='latin-1', engine='python')\n",
    "feature_data.drop(columns=['Unnamed: 0'], inplace=True)\n",
    "migration_data = pd.read_csv('../../data/labels/OECD_acquisition_data_interpolated.csv', encoding='latin-1', engine='python')\n",
    "migration_data.drop(columns=['Unnamed: 0'], inplace=True)\n",
    "\n",
    "features_per_country = feature_data.columns[2:]\n",
    "years = migration_data['Year'].unique()\n",
    "countries = migration_data['CO2'].unique()\n",
    "\n",
    "merged_data = pd.merge(feature_data, migration_data, left_on=[\"Country\", \"Year\"], right_on=[\"COU\", \"Year\"])\n",
    "\n",
    "# Merge the third dataset based on country and year\n",
    "merged_data = pd.merge(feature_data, merged_data, left_on=[\"Country\", \"Year\"], right_on=[\"CO2\", \"Year\"])\n",
    "\n",
    "merged_data.drop(columns=[\"COU\", \"CO2\"], inplace=True)\n",
    "\n",
    "label_column = \"y\"\n",
    "merged_data.rename(columns={\"Value\": \"y\"}, inplace=True)\n",
    "\n",
    "# discretize migration flow values based on quantiles\n",
    "num_classes = 2\n",
    "merged_data[\"y\"] = pd.qcut(merged_data[\"y\"], q=num_classes, labels=range(num_classes))"
   ],
   "metadata": {
    "id": "lgdgK8VO-uYW",
    "executionInfo": {
     "status": "ok",
     "timestamp": 1687981905053,
     "user_tz": -120,
     "elapsed": 503,
     "user": {
      "displayName": "Csanád Bakos",
      "userId": "16738190730318615870"
     }
    }
   }
  },
  {
   "cell_type": "code",
   "execution_count": 3,
   "outputs": [
    {
     "data": {
      "text/plain": "      Country_x  Year  Carbon Emissions_x  Education Expenditure_x  \\\n0           AUS  2000           -0.034998                -0.454657   \n1           AUS  2000           -0.034998                -0.454657   \n2           AUS  2000           -0.034998                -0.454657   \n3           AUS  2000           -0.034998                -0.454657   \n4           AUS  2000           -0.034998                -0.454657   \n...         ...   ...                 ...                      ...   \n14737       USA  2020            4.487322                 0.587816   \n14738       USA  2020            4.487322                 0.587816   \n14739       USA  2020            4.487322                 0.587816   \n14740       USA  2020            4.487322                 0.587816   \n14741       USA  2020            4.487322                 0.587816   \n\n       Foreign Direct Investment (FDI) Inflows_x     GDP_x  \\\n0                                      -0.289280 -0.298431   \n1                                      -0.289280 -0.298431   \n2                                      -0.289280 -0.298431   \n3                                      -0.289280 -0.298431   \n4                                      -0.289280 -0.298431   \n...                                          ...       ...   \n14737                                   1.362627  6.584184   \n14738                                   1.362627  6.584184   \n14739                                   1.362627  6.584184   \n14740                                   1.362627  6.584184   \n14741                                   1.362627  6.584184   \n\n       Health Expenditure_x  Inflation Rate_x  Internet Penetration_x  \\\n0                 -0.607745          1.153977               -0.938189   \n1                 -0.607745          1.153977               -0.938189   \n2                 -0.607745          1.153977               -0.938189   \n3                 -0.607745          1.153977               -0.938189   \n4                 -0.607745          1.153977               -0.938189   \n...                     ...               ...                     ...   \n14737              4.673587         -0.523285                0.959502   \n14738              4.673587         -0.523285                0.959502   \n14739              4.673587         -0.523285                0.959502   \n14740              4.673587         -0.523285                0.959502   \n14741              4.673587         -0.523285                0.959502   \n\n       Life Expectancy_x  ...  Education Expenditure_y  \\\n0              -0.116250  ...                 0.174311   \n1              -0.116250  ...                 0.359953   \n2              -0.116250  ...                 0.025932   \n3              -0.116250  ...                -0.668892   \n4              -0.116250  ...                -1.451215   \n...                  ...  ...                      ...   \n14737          -0.935055  ...                 0.453325   \n14738          -0.935055  ...                 0.525054   \n14739          -0.935055  ...                -0.183264   \n14740          -0.935055  ...                 0.327801   \n14741          -0.935055  ...                 1.592013   \n\n       Foreign Direct Investment (FDI) Inflows_y     GDP_y  \\\n0                                      -0.368066 -0.371296   \n1                                       0.620936 -0.358126   \n2                                       0.369052 -0.188773   \n3                                      -0.188356 -0.343983   \n4                                      -0.412945 -0.410982   \n...                                          ...       ...   \n14737                                  -0.523418 -0.316318   \n14738                                  -0.421880 -0.366480   \n14739                                  -0.236796 -0.237222   \n14740                                  -0.466609 -0.419164   \n14741                                  -0.239830 -0.254690   \n\n       Health Expenditure_y  Inflation Rate_y  Internet Penetration_y  \\\n0                  0.147570          0.054876               -1.501728   \n1                 -0.419606          0.158750               -1.687690   \n2                 -0.302375          0.249756               -0.741608   \n3                  0.105336         -0.354227               -0.923311   \n4                 -0.873520          0.834449               -2.242824   \n...                     ...               ...                     ...   \n14737              1.189990         -0.495711                1.235498   \n14738              0.535975         -0.273049                1.056610   \n14739             -1.128765          0.590546                0.637819   \n14740              0.265223         -1.193618                0.785622   \n14741              1.172275         -0.906314                1.129047   \n\n       Life Expectancy_y  Renewable Energy Production_y  Unemployment Rate_y  \\\n0              -0.518563                       0.333188            -0.646840   \n1              -0.665665                      -1.111867            -0.175451   \n2              -0.140708                       0.078859            -0.115907   \n3               0.045915                      -0.143680            -1.150481   \n4              -0.975198                       0.617575             0.792136   \n...                  ...                            ...                  ...   \n14737           1.328177                       2.410022            -0.713827   \n14738           0.981692                       0.518734            -0.669169   \n14739          -1.109627                      -0.491071            -1.026432   \n14740           0.355182                       0.010652            -0.577372   \n14741           1.018024                       1.861479             0.246318   \n\n       y  \n0      0  \n1      1  \n2      1  \n3      1  \n4      0  \n...   ..  \n14737  1  \n14738  1  \n14739  1  \n14740  0  \n14741  1  \n\n[14742 rows x 24 columns]",
      "text/html": "<div>\n<style scoped>\n    .dataframe tbody tr th:only-of-type {\n        vertical-align: middle;\n    }\n\n    .dataframe tbody tr th {\n        vertical-align: top;\n    }\n\n    .dataframe thead th {\n        text-align: right;\n    }\n</style>\n<table border=\"1\" class=\"dataframe\">\n  <thead>\n    <tr style=\"text-align: right;\">\n      <th></th>\n      <th>Country_x</th>\n      <th>Year</th>\n      <th>Carbon Emissions_x</th>\n      <th>Education Expenditure_x</th>\n      <th>Foreign Direct Investment (FDI) Inflows_x</th>\n      <th>GDP_x</th>\n      <th>Health Expenditure_x</th>\n      <th>Inflation Rate_x</th>\n      <th>Internet Penetration_x</th>\n      <th>Life Expectancy_x</th>\n      <th>...</th>\n      <th>Education Expenditure_y</th>\n      <th>Foreign Direct Investment (FDI) Inflows_y</th>\n      <th>GDP_y</th>\n      <th>Health Expenditure_y</th>\n      <th>Inflation Rate_y</th>\n      <th>Internet Penetration_y</th>\n      <th>Life Expectancy_y</th>\n      <th>Renewable Energy Production_y</th>\n      <th>Unemployment Rate_y</th>\n      <th>y</th>\n    </tr>\n  </thead>\n  <tbody>\n    <tr>\n      <th>0</th>\n      <td>AUS</td>\n      <td>2000</td>\n      <td>-0.034998</td>\n      <td>-0.454657</td>\n      <td>-0.289280</td>\n      <td>-0.298431</td>\n      <td>-0.607745</td>\n      <td>1.153977</td>\n      <td>-0.938189</td>\n      <td>-0.116250</td>\n      <td>...</td>\n      <td>0.174311</td>\n      <td>-0.368066</td>\n      <td>-0.371296</td>\n      <td>0.147570</td>\n      <td>0.054876</td>\n      <td>-1.501728</td>\n      <td>-0.518563</td>\n      <td>0.333188</td>\n      <td>-0.646840</td>\n      <td>0</td>\n    </tr>\n    <tr>\n      <th>1</th>\n      <td>AUS</td>\n      <td>2000</td>\n      <td>-0.034998</td>\n      <td>-0.454657</td>\n      <td>-0.289280</td>\n      <td>-0.298431</td>\n      <td>-0.607745</td>\n      <td>1.153977</td>\n      <td>-0.938189</td>\n      <td>-0.116250</td>\n      <td>...</td>\n      <td>0.359953</td>\n      <td>0.620936</td>\n      <td>-0.358126</td>\n      <td>-0.419606</td>\n      <td>0.158750</td>\n      <td>-1.687690</td>\n      <td>-0.665665</td>\n      <td>-1.111867</td>\n      <td>-0.175451</td>\n      <td>1</td>\n    </tr>\n    <tr>\n      <th>2</th>\n      <td>AUS</td>\n      <td>2000</td>\n      <td>-0.034998</td>\n      <td>-0.454657</td>\n      <td>-0.289280</td>\n      <td>-0.298431</td>\n      <td>-0.607745</td>\n      <td>1.153977</td>\n      <td>-0.938189</td>\n      <td>-0.116250</td>\n      <td>...</td>\n      <td>0.025932</td>\n      <td>0.369052</td>\n      <td>-0.188773</td>\n      <td>-0.302375</td>\n      <td>0.249756</td>\n      <td>-0.741608</td>\n      <td>-0.140708</td>\n      <td>0.078859</td>\n      <td>-0.115907</td>\n      <td>1</td>\n    </tr>\n    <tr>\n      <th>3</th>\n      <td>AUS</td>\n      <td>2000</td>\n      <td>-0.034998</td>\n      <td>-0.454657</td>\n      <td>-0.289280</td>\n      <td>-0.298431</td>\n      <td>-0.607745</td>\n      <td>1.153977</td>\n      <td>-0.938189</td>\n      <td>-0.116250</td>\n      <td>...</td>\n      <td>-0.668892</td>\n      <td>-0.188356</td>\n      <td>-0.343983</td>\n      <td>0.105336</td>\n      <td>-0.354227</td>\n      <td>-0.923311</td>\n      <td>0.045915</td>\n      <td>-0.143680</td>\n      <td>-1.150481</td>\n      <td>1</td>\n    </tr>\n    <tr>\n      <th>4</th>\n      <td>AUS</td>\n      <td>2000</td>\n      <td>-0.034998</td>\n      <td>-0.454657</td>\n      <td>-0.289280</td>\n      <td>-0.298431</td>\n      <td>-0.607745</td>\n      <td>1.153977</td>\n      <td>-0.938189</td>\n      <td>-0.116250</td>\n      <td>...</td>\n      <td>-1.451215</td>\n      <td>-0.412945</td>\n      <td>-0.410982</td>\n      <td>-0.873520</td>\n      <td>0.834449</td>\n      <td>-2.242824</td>\n      <td>-0.975198</td>\n      <td>0.617575</td>\n      <td>0.792136</td>\n      <td>0</td>\n    </tr>\n    <tr>\n      <th>...</th>\n      <td>...</td>\n      <td>...</td>\n      <td>...</td>\n      <td>...</td>\n      <td>...</td>\n      <td>...</td>\n      <td>...</td>\n      <td>...</td>\n      <td>...</td>\n      <td>...</td>\n      <td>...</td>\n      <td>...</td>\n      <td>...</td>\n      <td>...</td>\n      <td>...</td>\n      <td>...</td>\n      <td>...</td>\n      <td>...</td>\n      <td>...</td>\n      <td>...</td>\n      <td>...</td>\n    </tr>\n    <tr>\n      <th>14737</th>\n      <td>USA</td>\n      <td>2020</td>\n      <td>4.487322</td>\n      <td>0.587816</td>\n      <td>1.362627</td>\n      <td>6.584184</td>\n      <td>4.673587</td>\n      <td>-0.523285</td>\n      <td>0.959502</td>\n      <td>-0.935055</td>\n      <td>...</td>\n      <td>0.453325</td>\n      <td>-0.523418</td>\n      <td>-0.316318</td>\n      <td>1.189990</td>\n      <td>-0.495711</td>\n      <td>1.235498</td>\n      <td>1.328177</td>\n      <td>2.410022</td>\n      <td>-0.713827</td>\n      <td>1</td>\n    </tr>\n    <tr>\n      <th>14738</th>\n      <td>USA</td>\n      <td>2020</td>\n      <td>4.487322</td>\n      <td>0.587816</td>\n      <td>1.362627</td>\n      <td>6.584184</td>\n      <td>4.673587</td>\n      <td>-0.523285</td>\n      <td>0.959502</td>\n      <td>-0.935055</td>\n      <td>...</td>\n      <td>0.525054</td>\n      <td>-0.421880</td>\n      <td>-0.366480</td>\n      <td>0.535975</td>\n      <td>-0.273049</td>\n      <td>1.056610</td>\n      <td>0.981692</td>\n      <td>0.518734</td>\n      <td>-0.669169</td>\n      <td>1</td>\n    </tr>\n    <tr>\n      <th>14739</th>\n      <td>USA</td>\n      <td>2020</td>\n      <td>4.487322</td>\n      <td>0.587816</td>\n      <td>1.362627</td>\n      <td>6.584184</td>\n      <td>4.673587</td>\n      <td>-0.523285</td>\n      <td>0.959502</td>\n      <td>-0.935055</td>\n      <td>...</td>\n      <td>-0.183264</td>\n      <td>-0.236796</td>\n      <td>-0.237222</td>\n      <td>-1.128765</td>\n      <td>0.590546</td>\n      <td>0.637819</td>\n      <td>-1.109627</td>\n      <td>-0.491071</td>\n      <td>-1.026432</td>\n      <td>1</td>\n    </tr>\n    <tr>\n      <th>14740</th>\n      <td>USA</td>\n      <td>2020</td>\n      <td>4.487322</td>\n      <td>0.587816</td>\n      <td>1.362627</td>\n      <td>6.584184</td>\n      <td>4.673587</td>\n      <td>-0.523285</td>\n      <td>0.959502</td>\n      <td>-0.935055</td>\n      <td>...</td>\n      <td>0.327801</td>\n      <td>-0.466609</td>\n      <td>-0.419164</td>\n      <td>0.265223</td>\n      <td>-1.193618</td>\n      <td>0.785622</td>\n      <td>0.355182</td>\n      <td>0.010652</td>\n      <td>-0.577372</td>\n      <td>0</td>\n    </tr>\n    <tr>\n      <th>14741</th>\n      <td>USA</td>\n      <td>2020</td>\n      <td>4.487322</td>\n      <td>0.587816</td>\n      <td>1.362627</td>\n      <td>6.584184</td>\n      <td>4.673587</td>\n      <td>-0.523285</td>\n      <td>0.959502</td>\n      <td>-0.935055</td>\n      <td>...</td>\n      <td>1.592013</td>\n      <td>-0.239830</td>\n      <td>-0.254690</td>\n      <td>1.172275</td>\n      <td>-0.906314</td>\n      <td>1.129047</td>\n      <td>1.018024</td>\n      <td>1.861479</td>\n      <td>0.246318</td>\n      <td>1</td>\n    </tr>\n  </tbody>\n</table>\n<p>14742 rows × 24 columns</p>\n</div>"
     },
     "execution_count": 3,
     "metadata": {},
     "output_type": "execute_result"
    }
   ],
   "source": [
    "\n",
    "cols_to_skip = [\"Country_x\", \"Country_y\", \"Year\", \"y\"]\n",
    "cols_to_norm = list(set(merged_data.columns).difference(set(cols_to_skip)))\n",
    "\n",
    "# normalize data\n",
    "merged_data[cols_to_norm] = (merged_data[cols_to_norm]-merged_data[cols_to_norm].mean())/merged_data[cols_to_norm].std()\n",
    "merged_data"
   ],
   "metadata": {
    "colab": {
     "base_uri": "https://localhost:8080/",
     "height": 557
    },
    "id": "QGRsBUuY-uYY",
    "executionInfo": {
     "status": "ok",
     "timestamp": 1687981908429,
     "user_tz": -120,
     "elapsed": 278,
     "user": {
      "displayName": "Csanád Bakos",
      "userId": "16738190730318615870"
     }
    },
    "outputId": "41eee0c5-711f-4b1f-bdcf-fc238ef002ee"
   }
  },
  {
   "cell_type": "code",
   "execution_count": 4,
   "outputs": [
    {
     "name": "stderr",
     "output_type": "stream",
     "text": [
      "100%|██████████| 21/21 [00:09<00:00,  2.13it/s]"
     ]
    },
    {
     "name": "stdout",
     "output_type": "stream",
     "text": [
      "Mean sparsity:  0.05247276455074838\n"
     ]
    },
    {
     "name": "stderr",
     "output_type": "stream",
     "text": [
      "\n"
     ]
    }
   ],
   "source": [
    "from sklearn.metrics import euclidean_distances\n",
    "from tqdm import tqdm\n",
    "import networkx as nx\n",
    "\n",
    "graphs=[]\n",
    "similarity = False\n",
    "threshold = 0.38 # 0.38 for dissimilairity and 0.79 for similarity\n",
    "sparsity_values = []\n",
    "\n",
    "# for each year create the graph\n",
    "for year in tqdm(years):\n",
    "    # empty graph\n",
    "    graph = nx.Graph()\n",
    "\n",
    "    per_year_df = merged_data[merged_data['Year'] == year].reset_index(drop=True)\n",
    "\n",
    "    first_country_list = per_year_df['Country_x']\n",
    "    second_country_list = per_year_df['Country_y']\n",
    "    per_year_df['countries_pair'] = [country1+\"_\"+country2 for country1, country2 in zip(first_country_list, second_country_list)]\n",
    "    per_year_df.drop(['Country_x', 'Country_y'], axis=1, inplace=True)\n",
    "    distances = euclidean_distances(per_year_df[cols_to_norm])\n",
    "    distances = distances / distances.max()  # normalize\n",
    "    #  Calculate similarity between pairs of pairs of countries\n",
    "    similarities = 1 - distances\n",
    "    np.fill_diagonal(similarities, np.nan)\n",
    "    #  Convert to matrix\n",
    "    similarities_df = pd.DataFrame(similarities, index=per_year_df['countries_pair'].values, columns=per_year_df['countries_pair'].values)\n",
    "\n",
    "    if similarity:\n",
    "        filtered_matrix = similarities_df[similarities_df >= threshold]\n",
    "    else:\n",
    "        filtered_matrix = similarities_df[similarities_df <= threshold]\n",
    "\n",
    "    edge_list = np.argwhere(~np.isnan(filtered_matrix.to_numpy()))  # get indices of non nan values\n",
    "\n",
    "    node_index = {}\n",
    "    for i, row in per_year_df.iterrows():\n",
    "        node_index[i] = row[\"countries_pair\"]\n",
    "        graph.add_node(row['countries_pair'], x=row[cols_to_norm], y=row[label_column])\n",
    "    for edge in edge_list:\n",
    "        graph.add_edge(node_index[edge[0]], node_index[edge[1]])\n",
    "    graph.remove_edges_from(list(nx.selfloop_edges(graph)))\n",
    "    num_edges = graph.number_of_edges()\n",
    "    max_edges = graph.number_of_nodes() * (graph.number_of_nodes() - 1)\n",
    "    sparsity = num_edges / max_edges\n",
    "    sparsity_values.append(sparsity)\n",
    "    graphs.append(graph)\n",
    "\n",
    "print(\"Mean sparsity: \", np.mean(sparsity_values))"
   ],
   "metadata": {
    "colab": {
     "base_uri": "https://localhost:8080/"
    },
    "id": "yZrrvXsD-uYc",
    "executionInfo": {
     "status": "ok",
     "timestamp": 1687981926968,
     "user_tz": -120,
     "elapsed": 13942,
     "user": {
      "displayName": "Csanád Bakos",
      "userId": "16738190730318615870"
     }
    },
    "outputId": "17fd8de3-13cd-4571-8799-466b1b56b2a4"
   }
  },
  {
   "cell_type": "code",
   "execution_count": 5,
   "outputs": [
    {
     "name": "stderr",
     "output_type": "stream",
     "text": [
      "100%|██████████| 21/21 [00:05<00:00,  4.11it/s]\n"
     ]
    },
    {
     "data": {
      "text/plain": "Data(x=[702, 20], edge_index=[2, 54986], y=[702])"
     },
     "execution_count": 5,
     "metadata": {},
     "output_type": "execute_result"
    }
   ],
   "source": [
    "from torch_geometric.utils.convert import from_networkx\n",
    "\n",
    "# convert to Data object and reshape y values to meet GNN requirements\n",
    "data_graphs = [from_networkx(graphs[i]) for i in tqdm(range(len(graphs)))]\n",
    "# for i in range(len(data_graphs)):  # this is only needed for regression\n",
    "    # data_graphs[i].y = data_graphs[i].y.reshape(-1, 1)\n",
    "data_graphs[0]"
   ],
   "metadata": {
    "colab": {
     "base_uri": "https://localhost:8080/"
    },
    "id": "63Z7sEhF-uYd",
    "executionInfo": {
     "status": "ok",
     "timestamp": 1687981933274,
     "user_tz": -120,
     "elapsed": 6316,
     "user": {
      "displayName": "Csanád Bakos",
      "userId": "16738190730318615870"
     }
    },
    "outputId": "ff6ee37e-6164-4c1a-d869-feeac1640717"
   }
  },
  {
   "cell_type": "code",
   "execution_count": 6,
   "outputs": [],
   "source": [
    "train_data = data_graphs[:17]\n",
    "test_data = data_graphs[17:]"
   ],
   "metadata": {
    "id": "grUOiz9C-uYe",
    "executionInfo": {
     "status": "ok",
     "timestamp": 1687981933274,
     "user_tz": -120,
     "elapsed": 9,
     "user": {
      "displayName": "Csanád Bakos",
      "userId": "16738190730318615870"
     }
    }
   }
  },
  {
   "cell_type": "code",
   "execution_count": 7,
   "outputs": [],
   "source": [
    "import time\n",
    "import torch\n",
    "import pickle\n",
    "import numpy as np\n",
    "import torch.nn as nn\n",
    "import matplotlib.pyplot as plt\n",
    "from torch_geometric.nn import TAGConv, GATv2Conv\n",
    "from torch.nn import Sequential, Linear, ReLU\n",
    "from torch_geometric.loader import DataLoader as pyg_DataLoader\n",
    "\n",
    "\n",
    "\n",
    "class GNN_Example(nn.Module):\n",
    "  \"\"\"\n",
    "    This class defines a PyTorch module that takes in a graph represented in the PyTorch Geometric Data format,\n",
    "    and outputs a tensor of predictions for each node in the graph. The model consists of one or more TAGConv layers,\n",
    "    which are a type of graph convolutional layer.\n",
    "\n",
    "    Args:\n",
    "        node_dim (int): The number of node inputs.\n",
    "        output_dim (int, optional): The number of outputs (default: 1).\n",
    "        hidden_dim (int, optional): The number of hidden units in each GNN layer (default: 50).\n",
    "        n_gnn_layers (int, optional): The number of GNN layers in the model (default: 1).\n",
    "        K (int, optional): The number of hops in the neighbourhood for each GNN layer (default: 2).\n",
    "        dropout_rate (float, optional): The dropout rate to be applied to the output of each GNN layer (default: 0).\n",
    "\n",
    "    \"\"\"\n",
    "  def __init__(self, node_dim, output_dim=1, hidden_dim=50, n_gnn_layers=1, K=2, dropout_rate=0):\n",
    "    super().__init__()\n",
    "    self.node_dim = node_dim\n",
    "    self.output_dim = output_dim\n",
    "    self.hidden_dim = hidden_dim\n",
    "    self.n_gnn_layers = n_gnn_layers\n",
    "    self.K = K\n",
    "    self.dropout_rate = dropout_rate\n",
    "\n",
    "    self.convs = nn.ModuleList()\n",
    "\n",
    "    if n_gnn_layers == 1:\n",
    "      self.convs.append(TAGConv(node_dim, output_dim, K=K))\n",
    "    else:\n",
    "      self.convs.append(TAGConv(node_dim, hidden_dim, K=K))\n",
    "\n",
    "      for l in range(n_gnn_layers-2):\n",
    "          self.convs.append(TAGConv(hidden_dim, hidden_dim, K=K))\n",
    "\n",
    "      self.convs.append(TAGConv(hidden_dim, output_dim, K=K))\n",
    "\n",
    "  def forward(self, data):\n",
    "      \"\"\"Applies the GNN to the input graph.\n",
    "\n",
    "        Args:\n",
    "            data (Data): A PyTorch Geometric Data object representing the input graph.\n",
    "\n",
    "        Returns:\n",
    "            torch.Tensor: The output tensor of the GNN.\n",
    "\n",
    "        \"\"\"\n",
    "      x = data.x\n",
    "      edge_index = data.edge_index\n",
    "\n",
    "      for i in range(len(self.convs)-1):\n",
    "          x = self.convs[i](x=x, edge_index=edge_index)\n",
    "          x = nn.Dropout(self.dropout_rate, inplace=False)(x)\n",
    "          x = nn.PReLU()(x)\n",
    "\n",
    "      x = self.convs[-1](x=x, edge_index=edge_index)\n",
    "      # x = nn.Sigmoid()(x)\n",
    "\n",
    "      return x"
   ],
   "metadata": {
    "id": "S4_Qp9TP-uYf",
    "executionInfo": {
     "status": "ok",
     "timestamp": 1687981933274,
     "user_tz": -120,
     "elapsed": 9,
     "user": {
      "displayName": "Csanád Bakos",
      "userId": "16738190730318615870"
     }
    }
   }
  },
  {
   "cell_type": "code",
   "execution_count": 8,
   "outputs": [
    {
     "name": "stdout",
     "output_type": "stream",
     "text": [
      "GNN_Example(\n",
      "  (convs): ModuleList(\n",
      "    (0): TAGConv(20, 64, K=2)\n",
      "    (1): TAGConv(64, 64, K=2)\n",
      "    (2): TAGConv(64, 2, K=2)\n",
      "  )\n",
      ")\n"
     ]
    }
   ],
   "source": [
    "# Set model parameters\n",
    "node_dim = train_data[0].x.shape[1]\n",
    "output_dim = num_classes\n",
    "hidden_dim = 64\n",
    "n_gnn_layers = 3\n",
    "K = 2\n",
    "dropout_rate = 0\n",
    "\n",
    "# Create model\n",
    "model = GNN_Example(node_dim, output_dim, hidden_dim, n_gnn_layers, K, dropout_rate)\n",
    "print(model)"
   ],
   "metadata": {
    "colab": {
     "base_uri": "https://localhost:8080/"
    },
    "id": "1plKLyxQ-uYg",
    "executionInfo": {
     "status": "ok",
     "timestamp": 1687981933464,
     "user_tz": -120,
     "elapsed": 4,
     "user": {
      "displayName": "Csanád Bakos",
      "userId": "16738190730318615870"
     }
    },
    "outputId": "2205d167-bd7e-4790-bf93-f1da2241a9ed"
   }
  },
  {
   "cell_type": "code",
   "execution_count": 9,
   "outputs": [],
   "source": [
    "#################################################################\n",
    "def train_epoch(model, loader, optimizer, criterion, device='cpu'):\n",
    "    \"\"\"\n",
    "    Trains a neural network model for one epoch using the specified data loader and optimizer.\n",
    "\n",
    "    Args:\n",
    "        model (nn.Module): The neural network model to be trained.\n",
    "        loader (DataLoader): The PyTorch Geometric DataLoader containing the training data.\n",
    "        optimizer (torch.optim.Optimizer): The PyTorch optimizer used for training the model.\n",
    "        device (str): The device used for training the model (default: 'cpu').\n",
    "\n",
    "    Returns:\n",
    "        float: The mean loss value over all the batches in the DataLoader.\n",
    "\n",
    "    \"\"\"\n",
    "    model.train()\n",
    "    total_loss = 0\n",
    "    total_correct = 0\n",
    "    total_instances = 0\n",
    "    for batch in loader:\n",
    "        optimizer.zero_grad()  # Clear gradients.\n",
    "        out = model(batch)  # Perform a single forward pass.\n",
    "        loss = criterion(out, batch.y) # Compute the loss solely based on the training nodes.\n",
    "        loss.backward()  # Derive gradients.\n",
    "        optimizer.step()  # Update parameters based on gradients.\n",
    "\n",
    "        # compute accuracy\n",
    "        pred = out.argmax(dim=1)\n",
    "        total_loss += loss\n",
    "        correct_predictions = np.sum((pred==batch.y).detach().cpu().numpy())\n",
    "        total_correct += correct_predictions\n",
    "        total_instances += len(batch.y)\n",
    "\n",
    "    accuracy = round(total_correct/total_instances, 4)\n",
    "    return total_loss / len(loader), accuracy\n",
    "\n",
    "# test function of the graphsage model\n",
    "def evaluate_epoch(model, loader, criterion, device='cpu'):\n",
    "    \"\"\"\n",
    "    Evaluates the performance of a trained neural network model on a dataset using the specified data loader.\n",
    "\n",
    "    Args:\n",
    "        model (nn.Module): The trained neural network model to be evaluated.\n",
    "        loader (DataLoader): The PyTorch Geometric DataLoader containing the evaluation data.\n",
    "        device (str): The device used for evaluating the model (default: 'cpu').\n",
    "\n",
    "    Returns:\n",
    "        float: The mean loss value over all the batches in the DataLoader.\n",
    "\n",
    "    \"\"\"\n",
    "    model.eval()\n",
    "    total_loss = 0\n",
    "    total_correct = 0\n",
    "    total_instances = 0\n",
    "    for batch in loader:\n",
    "        out = model(batch)\n",
    "        loss = criterion(out, batch.y)\n",
    "        total_loss += loss\n",
    "\n",
    "        # compute accuracy\n",
    "        pred = out.argmax(dim=1)\n",
    "        total_loss += loss\n",
    "        correct_predictions = np.sum((pred==batch.y).detach().cpu().numpy())\n",
    "        total_correct += correct_predictions\n",
    "        total_instances += len(batch.y)\n",
    "    accuracy = round(total_correct/total_instances, 4)\n",
    "    return total_loss / len(loader), accuracy\n",
    "#################################################################"
   ],
   "metadata": {
    "id": "4o9lnLhf-uYh",
    "executionInfo": {
     "status": "ok",
     "timestamp": 1687981937781,
     "user_tz": -120,
     "elapsed": 2,
     "user": {
      "displayName": "Csanád Bakos",
      "userId": "16738190730318615870"
     }
    }
   }
  },
  {
   "cell_type": "code",
   "execution_count": 10,
   "outputs": [
    {
     "name": "stdout",
     "output_type": "stream",
     "text": [
      "cuda:0\n"
     ]
    }
   ],
   "source": [
    "device = torch.device('cuda:0' if torch.cuda.is_available() else 'cpu')\n",
    "print(device)"
   ],
   "metadata": {
    "colab": {
     "base_uri": "https://localhost:8080/"
    },
    "id": "728ooO9W-uYi",
    "executionInfo": {
     "status": "ok",
     "timestamp": 1687981946155,
     "user_tz": -120,
     "elapsed": 3055,
     "user": {
      "displayName": "Csanád Bakos",
      "userId": "16738190730318615870"
     }
    },
    "outputId": "2aa8ce54-7aff-4e35-b1b1-dbe2157ce0fc"
   }
  },
  {
   "cell_type": "code",
   "execution_count": 11,
   "outputs": [],
   "source": [
    "# Set training parameters\n",
    "learning_rate = 0.1\n",
    "batch_size = 2\n",
    "num_epochs = 500\n",
    "\n",
    "# Create the optimizer to train the neural network via back-propagation\n",
    "criterion = nn.CrossEntropyLoss()\n",
    "optimizer = torch.optim.SGD(model.parameters(), lr=learning_rate, weight_decay=5e-4)\n",
    "\n",
    "# Create the training and validation dataloaders to \"feed\" data to the GNN in batches\n",
    "train_loader = pyg_DataLoader(train_data, batch_size=batch_size, shuffle=True)\n",
    "test_loader = pyg_DataLoader(test_data, batch_size=batch_size, shuffle=False)"
   ],
   "metadata": {
    "id": "xV-hIh4X-uYj",
    "executionInfo": {
     "status": "ok",
     "timestamp": 1687981946454,
     "user_tz": -120,
     "elapsed": 1,
     "user": {
      "displayName": "Csanád Bakos",
      "userId": "16738190730318615870"
     }
    }
   }
  },
  {
   "cell_type": "code",
   "execution_count": 12,
   "outputs": [
    {
     "name": "stdout",
     "output_type": "stream",
     "text": [
      "Epoch  10 , train loss  0.48463112 , train acc  0.7709 , test acc  0.791\n",
      "Epoch  20 , train loss  0.449717 , train acc  0.7872 , test acc  0.7959\n",
      "Epoch  30 , train loss  0.42616394 , train acc  0.7995 , test acc  0.8038\n",
      "Epoch  40 , train loss  0.40474018 , train acc  0.8121 , test acc  0.7924\n",
      "Epoch  50 , train loss  0.3884541 , train acc  0.8192 , test acc  0.8095\n",
      "Epoch  60 , train loss  0.37464294 , train acc  0.8307 , test acc  0.7984\n",
      "Epoch  70 , train loss  0.36839667 , train acc  0.8317 , test acc  0.8212\n",
      "Epoch  80 , train loss  0.35381547 , train acc  0.8422 , test acc  0.828\n",
      "Epoch  90 , train loss  0.3696012 , train acc  0.8291 , test acc  0.8191\n",
      "Epoch  100 , train loss  0.33746138 , train acc  0.8546 , test acc  0.776\n",
      "Epoch  110 , train loss  0.33275202 , train acc  0.8559 , test acc  0.8091\n",
      "Epoch  120 , train loss  0.31891465 , train acc  0.8643 , test acc  0.8123\n",
      "Epoch  130 , train loss  0.31616327 , train acc  0.8643 , test acc  0.791\n",
      "Epoch  140 , train loss  0.3150264 , train acc  0.8632 , test acc  0.8276\n",
      "Epoch  150 , train loss  0.3162356 , train acc  0.8643 , test acc  0.7532\n",
      "Epoch  160 , train loss  0.3130139 , train acc  0.8648 , test acc  0.7347\n",
      "Epoch  170 , train loss  0.29661337 , train acc  0.8741 , test acc  0.8262\n",
      "Epoch  180 , train loss  0.34798598 , train acc  0.8449 , test acc  0.7539\n",
      "Epoch  190 , train loss  0.28888786 , train acc  0.8769 , test acc  0.8198\n",
      "Epoch  200 , train loss  0.28584325 , train acc  0.8794 , test acc  0.8212\n",
      "Epoch  210 , train loss  0.28290677 , train acc  0.8811 , test acc  0.8212\n",
      "Epoch  220 , train loss  0.2782624 , train acc  0.8835 , test acc  0.8248\n",
      "Epoch  230 , train loss  0.27895367 , train acc  0.8843 , test acc  0.8283\n",
      "Epoch  240 , train loss  0.27576622 , train acc  0.8829 , test acc  0.8162\n",
      "Epoch  250 , train loss  0.26807296 , train acc  0.8887 , test acc  0.8223\n",
      "Epoch  260 , train loss  0.26676995 , train acc  0.8872 , test acc  0.8323\n",
      "Epoch  270 , train loss  0.26751316 , train acc  0.8859 , test acc  0.8273\n",
      "Epoch  280 , train loss  0.2633325 , train acc  0.8909 , test acc  0.813\n",
      "Epoch  290 , train loss  0.26336437 , train acc  0.8892 , test acc  0.8259\n",
      "Epoch  300 , train loss  0.2636641 , train acc  0.8896 , test acc  0.8166\n",
      "Epoch  310 , train loss  0.27298006 , train acc  0.8846 , test acc  0.818\n",
      "Epoch  320 , train loss  0.25010887 , train acc  0.8977 , test acc  0.8276\n",
      "Epoch  330 , train loss  0.2549389 , train acc  0.8964 , test acc  0.7553\n",
      "Epoch  340 , train loss  0.275413 , train acc  0.8834 , test acc  0.8326\n",
      "Epoch  350 , train loss  0.24349138 , train acc  0.9004 , test acc  0.8283\n",
      "Epoch  360 , train loss  0.2487749 , train acc  0.8962 , test acc  0.8255\n",
      "Epoch  370 , train loss  0.23859538 , train acc  0.9029 , test acc  0.8251\n",
      "Epoch  380 , train loss  0.23645313 , train acc  0.9035 , test acc  0.8312\n",
      "Epoch  390 , train loss  0.26680702 , train acc  0.8843 , test acc  0.8319\n",
      "Epoch  400 , train loss  0.23044515 , train acc  0.9067 , test acc  0.8159\n",
      "Epoch  410 , train loss  0.22736594 , train acc  0.9076 , test acc  0.8316\n",
      "Epoch  420 , train loss  0.22577831 , train acc  0.9067 , test acc  0.838\n",
      "Epoch  430 , train loss  0.24692543 , train acc  0.8936 , test acc  0.8298\n",
      "Epoch  440 , train loss  0.23093104 , train acc  0.9007 , test acc  0.8344\n",
      "Epoch  450 , train loss  0.2314556 , train acc  0.9037 , test acc  0.8226\n",
      "Epoch  460 , train loss  0.22296387 , train acc  0.9076 , test acc  0.8333\n",
      "Epoch  470 , train loss  0.21664794 , train acc  0.9118 , test acc  0.8333\n",
      "Epoch  480 , train loss  0.21791893 , train acc  0.9136 , test acc  0.8308\n",
      "Epoch  490 , train loss  0.21367624 , train acc  0.9113 , test acc  0.8248\n",
      "Epoch  500 , train loss  0.2277991 , train acc  0.9075 , test acc  0.8358\n"
     ]
    }
   ],
   "source": [
    "train_losses = []\n",
    "test_losses = []\n",
    "train_accs = []\n",
    "test_accs = []\n",
    "\n",
    "for epoch in range(1, num_epochs+1):\n",
    "    train_loss, train_acc = train_epoch(model, train_loader, optimizer, criterion, device=device)\n",
    "    test_loss, test_acc = evaluate_epoch(model, test_loader, criterion, device=device)\n",
    "    if epoch % 10 == 0:\n",
    "        print(\"Epoch \", epoch, \", train loss \", train_loss.detach().cpu().numpy(), \", train acc \", train_acc, \", test acc \", test_acc)\n",
    "\n",
    "    train_losses.append(train_loss.detach().cpu().numpy())\n",
    "    test_accs.append(test_acc)\n",
    "    test_losses.append(test_loss.detach().cpu().numpy())\n",
    "    train_accs.append(train_acc)"
   ],
   "metadata": {
    "colab": {
     "base_uri": "https://localhost:8080/"
    },
    "id": "8PmsKGgC-uYj",
    "outputId": "95175d95-49eb-49be-82c4-a9e525a2691c"
   }
  },
  {
   "cell_type": "code",
   "execution_count": null,
   "outputs": [],
   "source": [
    "# plot the training and validation loss curves\n",
    "plt.plot(train_losses, label=\"train\")\n",
    "plt.plot(test_losses, label=\"test\")\n",
    "plt.legend()\n",
    "plt.xlabel(\"Epochs\")\n",
    "plt.ylabel(\"Loss\")\n",
    "plt.show()"
   ],
   "metadata": {
    "colab": {
     "base_uri": "https://localhost:8080/",
     "height": 457
    },
    "id": "948R2rOC-uYk",
    "executionInfo": {
     "status": "ok",
     "timestamp": 1687976017994,
     "user_tz": -120,
     "elapsed": 445,
     "user": {
      "displayName": "Csanád Bakos",
      "userId": "16738190730318615870"
     }
    },
    "outputId": "dc3f2786-a797-4575-d1fd-bf18918d517f"
   }
  },
  {
   "cell_type": "code",
   "execution_count": 20,
   "outputs": [
    {
     "output_type": "display_data",
     "data": {
      "text/plain": [
       "<Figure size 640x480 with 1 Axes>"
      ],
      "image/png": "[encoded data removed]"
     },
     "metadata": {}
    }
   ],
   "source": [
    "#########################################################################\n",
    "# visualize the accuracy on the test set as a function to the epochs\n",
    "\n",
    "# Set the font size for the plot labels and title\n",
    "plt.rcParams.update({'font.size': 12})\n",
    "\n",
    "# Create a figure and axis object\n",
    "fig, ax = plt.subplots()\n",
    "\n",
    "# Plot the training loss as a blue line\n",
    "ax.plot(test_accs, label='Test Accuracy')\n",
    "ax.plot(train_accs, label='Train Accuracy')\n",
    "\n",
    "# Add a legend to the plot\n",
    "ax.legend(loc='lower right')\n",
    "\n",
    "# Set the plot labels and title\n",
    "ax.set_xlabel('Epoch')\n",
    "ax.set_ylabel('Accuracy')\n",
    "ax.set_title('Accuracy during training')\n",
    "\n",
    "# Add grid lines to the plot\n",
    "ax.grid(True, which='both')\n",
    "\n",
    "# Display the plot\n",
    "plt.show()\n",
    "#########################################################################"
   ],
   "metadata": {
    "colab": {
     "base_uri": "https://localhost:8080/",
     "height": 481
    },
    "id": "-Ne5RRN2-uYk",
    "executionInfo": {
     "status": "ok",
     "timestamp": 1687974314962,
     "user_tz": -120,
     "elapsed": 646,
     "user": {
      "displayName": "Csanád Bakos",
      "userId": "16738190730318615870"
     }
    },
    "outputId": "fae918e4-31e2-4d19-9547-4301b1673538"
   }
  },
  {
   "cell_type": "code",
   "execution_count": 22,
   "outputs": [
    {
     "data": {
      "text/plain": "<Figure size 640x480 with 1 Axes>",
      "image/png": "[encoded data removed]"
     },
     "metadata": {},
     "output_type": "display_data"
    }
   ],
   "source": [
    "# Results obtained by running the above code with different number of discretized classes.\n",
    "# All other parameters were fixed for the two types of graph construction.\n",
    "# thresholds: 0.38 for dissimilarity and 0.79 for similarity\n",
    "similarity_graph_acc_per_num_class = {2: 84, 3: 72, 4: 60, 5: 54, 6: 51}\n",
    "dissimilarity_graph_acc_per_num_class = {2: 83, 3: 69, 4: 60, 5: 55 , 6: 50 }\n",
    "plt.scatter(similarity_graph_acc_per_num_class.keys(), similarity_graph_acc_per_num_class.values(), label=\"Similarity graph\", marker=\"v\")\n",
    "plt.scatter(dissimilarity_graph_acc_per_num_class.keys(), dissimilarity_graph_acc_per_num_class.values(), label=\"Dissimilarity graph\", marker=\"^\")\n",
    "plt.ylabel(\"Accuracy\")\n",
    "plt.xlabel(\"Number of discretization bins\")\n",
    "plt.title(\"GCN performance for (dis)similarity graphs at varying discretization resolutions\")\n",
    "plt.legend()\n",
    "plt.savefig(\"gcn_acc_num_classes.png\")\n",
    "plt.show()"
   ],
   "metadata": {
    "id": "ZCULEs20-uYl"
   }
  },
  {
   "cell_type": "code",
   "source": [
    "from torch_geometric.explain import Explainer, GNNExplainer\n",
    "\n",
    "\n",
    "explainer = Explainer(\n",
    "    model=model,\n",
    "    algorithm=GNNExplainer(epochs=100),\n",
    "    explanation_type='model',\n",
    "    node_mask_type='attributes',\n",
    "    edge_mask_type='object',\n",
    "    model_config=dict(\n",
    "        mode='multiclass_classification',\n",
    "        task_level='node',\n",
    "        return_type='raw',\n",
    "    ),\n",
    ")\n",
    "\n",
    "# explanations for each node\n",
    "#add your code here to visualize the feature importance\n",
    "explanations = []\n",
    "for node_index in ind:\n",
    "  explanation = explainer(data.x, data.edge_index, index=node_index)\n",
    "  path = 'feature_importance_node_{}.png'.format(node_index)\n",
    "  explanation.visualize_feature_importance(path, top_k=50)\n",
    "  print(f\"Feature importance plot has been saved to '{path}'\")\n",
    "  explanations.append(explanation)\n",
    "\n",
    "##################################################################################"
   ],
   "metadata": {
    "id": "2aV3m1ueUFLW"
   },
   "execution_count": null,
   "outputs": []
  }
 ],
 "metadata": {
  "kernelspec": {
   "display_name": "Python 3",
   "name": "python3"
  },
  "language_info": {
   "codemirror_mode": {
    "name": "ipython",
    "version": 2
   },
   "file_extension": ".py",
   "mimetype": "text/x-python",
   "name": "python",
   "nbconvert_exporter": "python",
   "pygments_lexer": "ipython2",
   "version": "2.7.6"
  },
  "colab": {
   "provenance": [],
   "gpuType": "T4"
  },
  "accelerator": "GPU"
 },
 "nbformat": 4,
 "nbformat_minor": 0
}
