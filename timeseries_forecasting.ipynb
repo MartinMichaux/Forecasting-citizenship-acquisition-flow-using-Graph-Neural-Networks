{
 "cells": [
  {
   "cell_type": "code",
   "execution_count": 1,
   "metadata": {},
   "outputs": [],
   "source": [
    "import pandas as pd\n",
    "import numpy as np"
   ]
  },
  {
   "cell_type": "code",
   "execution_count": 3,
   "metadata": {},
   "outputs": [],
   "source": [
    "df_features = pd.read_csv('features/features_interpolated.csv', encoding='latin-1', engine='python')\n",
    "df_features.drop(columns=['Unnamed: 0'], inplace=True)\n",
    "immigration = pd.read_csv('data/OECD_acquisition_data_interpolated.csv', encoding='latin-1', engine='python')"
   ]
  },
  {
   "cell_type": "code",
   "execution_count": 4,
   "metadata": {},
   "outputs": [
    {
     "name": "stdout",
     "output_type": "stream",
     "text": [
      "  Country  Year  Carbon Emissions  Education Expenditure   \n",
      "0     AUS  2000          339446.6               4.887310  \\\n",
      "1     AUS  2001          345645.0               4.889552   \n",
      "2     AUS  2002          353371.3               4.891794   \n",
      "3     AUS  2003          352581.1               4.894036   \n",
      "4     AUS  2004          365808.0               4.896278   \n",
      "\n",
      "   Foreign Direct Investment (FDI) Inflows           GDP  Health Expenditure   \n",
      "0                             1.489298e+10  4.158513e+11            7.599617  \\\n",
      "1                             1.071713e+10  3.793582e+11            7.682723   \n",
      "2                             1.465632e+10  3.955808e+11            7.878076   \n",
      "3                             8.985246e+09  4.674980e+11            7.882926   \n",
      "4                             4.290767e+10  6.143264e+11            8.090034   \n",
      "\n",
      "   Inflation Rate  Internet Penetration  Life Expectancy   \n",
      "0        4.457435             46.756116        79.234146  \\\n",
      "1        4.407135             52.689266        79.634146   \n",
      "2        2.981575             55.266950        79.936585   \n",
      "3        2.732596             57.844633        80.239024   \n",
      "4        2.343255             60.422317        80.490244   \n",
      "\n",
      "   Renewable Energy Production  Unemployment Rate  \n",
      "0                         8.42               6.28  \n",
      "1                         8.37               6.74  \n",
      "2                         8.74               6.37  \n",
      "3                         7.15               5.93  \n",
      "4                         6.68               5.39  \n",
      "   Unnamed: 0  CO2  COU  Year  Value\n",
      "0           0  GBR  BEL  2000  152.0\n",
      "1           1  GBR  BEL  2001  274.0\n",
      "2           2  GBR  BEL  2002  201.0\n",
      "3           3  GBR  BEL  2003  126.0\n",
      "4           4  GBR  BEL  2004  128.0\n"
     ]
    }
   ],
   "source": [
    "print(df_features.head())\n",
    "print(immigration.head())"
   ]
  },
  {
   "cell_type": "code",
   "execution_count": null,
   "metadata": {},
   "outputs": [],
   "source": []
  }
 ],
 "metadata": {
  "kernelspec": {
   "display_name": "base",
   "language": "python",
   "name": "python3"
  },
  "language_info": {
   "codemirror_mode": {
    "name": "ipython",
    "version": 3
   },
   "file_extension": ".py",
   "mimetype": "text/x-python",
   "name": "python",
   "nbconvert_exporter": "python",
   "pygments_lexer": "ipython3",
   "version": "3.9.12"
  },
  "orig_nbformat": 4
 },
 "nbformat": 4,
 "nbformat_minor": 2
}
